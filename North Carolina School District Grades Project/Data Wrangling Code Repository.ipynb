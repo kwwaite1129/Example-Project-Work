{
 "cells": [
  {
   "cell_type": "code",
   "execution_count": null,
   "metadata": {},
   "outputs": [],
   "source": [
    "# Drop all NA values from a column\n",
    "df = df.dropna(subset=['col_name'])\n",
    "\n",
    "# Reanme a column\n",
    "df = df.rename(columns={\"old_name\": \"new_name\", \"old_name\": \"new_name\"})\n",
    "\n",
    "# Drop any rows that contain value in specific column\n",
    "df.drop(df[df['col_name'] == value].index, inplace = True)\n",
    "\n",
    "# Drop a specific column\n",
    "df = df.drop(['col_name'], axis = 1)\n",
    "\n",
    "# Replace specific values in a column\n",
    "df['col_name'] = df['col_name'].replace('old_text','new_text')\n",
    "\n",
    "# Change from long table to short table\n",
    "short_data = pd.melt(merged_data,['col_name'])\n",
    "\n",
    "# Create dictionary of two lists\n",
    "dict = {list_one[i]: list_two[i] for i in range(len(list_one))} "
   ]
  },
  {
   "cell_type": "code",
   "execution_count": 1,
   "metadata": {},
   "outputs": [],
   "source": [
    "# create a function that iterates over a list and adds data and their counts to a dictionary\n",
    "def getDuplicatesWithCount(listOfElems):\n",
    "    ''' Get frequency count of duplicate elements in the given list '''\n",
    "    dictOfElems = dict()\n",
    "    # Iterate over each element in list\n",
    "    for elem in listOfElems:\n",
    "        # If element exists in dict then increment its value else add it in dict\n",
    "        if elem in dictOfElems:\n",
    "            dictOfElems[elem] += 1\n",
    "        else:\n",
    "            dictOfElems[elem] = 1    \n",
    " \n",
    "    # Filter key-value pairs in dictionary. Keep pairs whose value is greater than 1 \n",
    "    # i.e. only duplicate elements from list.\n",
    "    dictOfElems = { key:value for key, value in dictOfElems.items() if value > 1}\n",
    "    # Returns a dict of duplicate elements and thier frequency count\n",
    "    return dictOfElems"
   ]
  },
  {
   "cell_type": "code",
   "execution_count": 2,
   "metadata": {},
   "outputs": [],
   "source": [
    "# Create a function that says if there are not duplicates in a column or identifies how many duplicates and what\n",
    "# word is duplicated how many times\n",
    "def printDuplicates(col_name):\n",
    "    empty_dict = {} \n",
    "    for col in list_of_cols:\n",
    "        dictOfElems = getDuplicatesWithCount(col_name)\n",
    "    \n",
    "    if dictOfElems == empty_dict:\n",
    "        print(\"No Duplicates\")\n",
    "    else:\n",
    "        for key, value in dictOfElems.items():\n",
    "                print(key , ' :: ', value)"
   ]
  },
  {
   "cell_type": "code",
   "execution_count": null,
   "metadata": {},
   "outputs": [],
   "source": [
    "# Create an array containing the z scores for each value in the SPS column\n",
    "z_score = stats.zscore(df['column_name'])\n",
    "# An outlier is any column that has a z score greater than 3 or less than -3.\n",
    "df_outlier_test = df\n",
    "df_outlier_test['z_score'] = z_score\n",
    "df_outlier_test = df_outlier_test[df_outlier_test['z_score'] < -3]\n",
    "\n",
    "def plural_outliers(count):\n",
    "    if count == 1:\n",
    "        x ='outlier'\n",
    "    else:\n",
    "        x = 'outliers'\n",
    "    return x\n",
    "\n",
    "outlier_count = df_outlier_test.shape[0]\n",
    "# The number of rows in the new data frames would be the number of outliers\n",
    "print(\"There is\",outlier_count,plural_outliers(outlier_count),'in this dataset')"
   ]
  }
 ],
 "metadata": {
  "kernelspec": {
   "display_name": "Python 3",
   "language": "python",
   "name": "python3"
  },
  "language_info": {
   "codemirror_mode": {
    "name": "ipython",
    "version": 3
   },
   "file_extension": ".py",
   "mimetype": "text/x-python",
   "name": "python",
   "nbconvert_exporter": "python",
   "pygments_lexer": "ipython3",
   "version": "3.7.6"
  }
 },
 "nbformat": 4,
 "nbformat_minor": 4
}
