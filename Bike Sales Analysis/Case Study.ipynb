{
 "cells": [
  {
   "cell_type": "markdown",
   "metadata": {},
   "source": [
    "### Problem Statement:\n",
    "\n",
    "It seems that staying in shape has never been more important to the American public. Not only are people becoming more and more concerned about their fitness, but also with an ongoing, once in a century pandemic, getting outdoors has never been more in demand. With the perfect storm of an increased desire to stay in shape while gyms and health clubs across America are closing or being restricted due to the Covid-19 pandemic, cycling has never been more popular. Cycling is the perfect socially distant fitness activity and a great way to exercise while getting some fresh air and a change of scenery from the increase in new home offices. Due to these circumstances, Helmet Heads has seen an increased demand for their product and would like to make more accurate choices when deciding what items to keep in their warehouses. Having products sit in a warehouse for months on end costs the company a lot of money and it is far more effective to purchase more models that will sell faster. The decision shouldn’t be taken lightly. Having the ability to identify what bike models to buy and store in the warehouse will be is extremely important. \n",
    "\n",
    "Note - Helmet Heads is a fictitious company and the dataset is also fictitious. More information on the dataset is contained here - https://business-science.github.io/sweep/reference/bike_sales.html\n",
    "\n",
    "### Proposal:\n",
    "\n",
    "By using the bike sales data set from Github, I will evaluate the models of possible Helmet Heads bike models project sales volumes and classify if this is a good investment for Helmet Heads. By having the ability to enter in a bike model before purchasing and seeing how many bikes are expected to sell will save franchise owners a large amount of money. This is a supervised learning problem; the dataset contains sales volumes for the from 2011 to 2016 and will be able to tell the franchise owners how much of a product will be sold in the future. \n",
    "\n",
    "My next steps will include identifying what models to use and what metrics I will use to evaluate them. "
   ]
  },
  {
   "cell_type": "code",
   "execution_count": 130,
   "metadata": {},
   "outputs": [],
   "source": [
    "import pandas as pd\n",
    "import matplotlib.pyplot as plt\n",
    "import numpy as np\n",
    "import geopandas as gpd\n",
    "from shapely.geometry import Point, Polygon\n",
    "import plotly.express as px\n",
    "from scipy import stats\n",
    "import matplotlib"
   ]
  },
  {
   "cell_type": "code",
   "execution_count": 3,
   "metadata": {},
   "outputs": [
    {
     "data": {
      "text/html": [
       "<div>\n",
       "<style scoped>\n",
       "    .dataframe tbody tr th:only-of-type {\n",
       "        vertical-align: middle;\n",
       "    }\n",
       "\n",
       "    .dataframe tbody tr th {\n",
       "        vertical-align: top;\n",
       "    }\n",
       "\n",
       "    .dataframe thead th {\n",
       "        text-align: right;\n",
       "    }\n",
       "</style>\n",
       "<table border=\"1\" class=\"dataframe\">\n",
       "  <thead>\n",
       "    <tr style=\"text-align: right;\">\n",
       "      <th></th>\n",
       "      <th>order.date</th>\n",
       "      <th>order.id</th>\n",
       "      <th>order.line</th>\n",
       "      <th>quantity</th>\n",
       "      <th>price</th>\n",
       "      <th>price.ext</th>\n",
       "      <th>customer.id</th>\n",
       "      <th>bikeshop.name</th>\n",
       "      <th>bikeshop.city</th>\n",
       "      <th>bikeshop.state</th>\n",
       "      <th>...</th>\n",
       "      <th>product.id</th>\n",
       "      <th>model</th>\n",
       "      <th>category.primary</th>\n",
       "      <th>category.secondary</th>\n",
       "      <th>frame</th>\n",
       "      <th>year</th>\n",
       "      <th>month</th>\n",
       "      <th>weekday_name</th>\n",
       "      <th>Region</th>\n",
       "      <th>Division</th>\n",
       "    </tr>\n",
       "  </thead>\n",
       "  <tbody>\n",
       "    <tr>\n",
       "      <th>0</th>\n",
       "      <td>2011-01-07</td>\n",
       "      <td>1</td>\n",
       "      <td>1</td>\n",
       "      <td>1</td>\n",
       "      <td>6070</td>\n",
       "      <td>6070.0</td>\n",
       "      <td>2</td>\n",
       "      <td>Ithaca Mountain Climbers</td>\n",
       "      <td>Ithaca</td>\n",
       "      <td>NY</td>\n",
       "      <td>...</td>\n",
       "      <td>48</td>\n",
       "      <td>Jekyll Carbon 2</td>\n",
       "      <td>Mountain</td>\n",
       "      <td>Over Mountain</td>\n",
       "      <td>Carbon</td>\n",
       "      <td>2011</td>\n",
       "      <td>1</td>\n",
       "      <td>4</td>\n",
       "      <td>Northeast</td>\n",
       "      <td>Middle Atlantic</td>\n",
       "    </tr>\n",
       "    <tr>\n",
       "      <th>1</th>\n",
       "      <td>2011-01-07</td>\n",
       "      <td>1</td>\n",
       "      <td>2</td>\n",
       "      <td>1</td>\n",
       "      <td>5970</td>\n",
       "      <td>5970.0</td>\n",
       "      <td>2</td>\n",
       "      <td>Ithaca Mountain Climbers</td>\n",
       "      <td>Ithaca</td>\n",
       "      <td>NY</td>\n",
       "      <td>...</td>\n",
       "      <td>52</td>\n",
       "      <td>Trigger Carbon 2</td>\n",
       "      <td>Mountain</td>\n",
       "      <td>Over Mountain</td>\n",
       "      <td>Carbon</td>\n",
       "      <td>2011</td>\n",
       "      <td>1</td>\n",
       "      <td>4</td>\n",
       "      <td>Northeast</td>\n",
       "      <td>Middle Atlantic</td>\n",
       "    </tr>\n",
       "    <tr>\n",
       "      <th>2</th>\n",
       "      <td>2011-01-10</td>\n",
       "      <td>2</td>\n",
       "      <td>1</td>\n",
       "      <td>1</td>\n",
       "      <td>2770</td>\n",
       "      <td>2770.0</td>\n",
       "      <td>10</td>\n",
       "      <td>Kansas City 29ers</td>\n",
       "      <td>Kansas City</td>\n",
       "      <td>KS</td>\n",
       "      <td>...</td>\n",
       "      <td>76</td>\n",
       "      <td>Beast of the East 1</td>\n",
       "      <td>Mountain</td>\n",
       "      <td>Trail</td>\n",
       "      <td>Aluminum</td>\n",
       "      <td>2011</td>\n",
       "      <td>1</td>\n",
       "      <td>0</td>\n",
       "      <td>Midwest</td>\n",
       "      <td>West North Central</td>\n",
       "    </tr>\n",
       "    <tr>\n",
       "      <th>3</th>\n",
       "      <td>2011-01-10</td>\n",
       "      <td>2</td>\n",
       "      <td>2</td>\n",
       "      <td>1</td>\n",
       "      <td>5970</td>\n",
       "      <td>5970.0</td>\n",
       "      <td>10</td>\n",
       "      <td>Kansas City 29ers</td>\n",
       "      <td>Kansas City</td>\n",
       "      <td>KS</td>\n",
       "      <td>...</td>\n",
       "      <td>52</td>\n",
       "      <td>Trigger Carbon 2</td>\n",
       "      <td>Mountain</td>\n",
       "      <td>Over Mountain</td>\n",
       "      <td>Carbon</td>\n",
       "      <td>2011</td>\n",
       "      <td>1</td>\n",
       "      <td>0</td>\n",
       "      <td>Midwest</td>\n",
       "      <td>West North Central</td>\n",
       "    </tr>\n",
       "    <tr>\n",
       "      <th>4</th>\n",
       "      <td>2011-01-10</td>\n",
       "      <td>3</td>\n",
       "      <td>1</td>\n",
       "      <td>1</td>\n",
       "      <td>10660</td>\n",
       "      <td>10660.0</td>\n",
       "      <td>6</td>\n",
       "      <td>Louisville Race Equipment</td>\n",
       "      <td>Louisville</td>\n",
       "      <td>KY</td>\n",
       "      <td>...</td>\n",
       "      <td>2</td>\n",
       "      <td>Supersix Evo Hi-Mod Team</td>\n",
       "      <td>Road</td>\n",
       "      <td>Elite Road</td>\n",
       "      <td>Carbon</td>\n",
       "      <td>2011</td>\n",
       "      <td>1</td>\n",
       "      <td>0</td>\n",
       "      <td>South</td>\n",
       "      <td>East South Central</td>\n",
       "    </tr>\n",
       "  </tbody>\n",
       "</table>\n",
       "<p>5 rows × 22 columns</p>\n",
       "</div>"
      ],
      "text/plain": [
       "   order.date  order.id  order.line  quantity  price  price.ext  customer.id  \\\n",
       "0  2011-01-07         1           1         1   6070     6070.0            2   \n",
       "1  2011-01-07         1           2         1   5970     5970.0            2   \n",
       "2  2011-01-10         2           1         1   2770     2770.0           10   \n",
       "3  2011-01-10         2           2         1   5970     5970.0           10   \n",
       "4  2011-01-10         3           1         1  10660    10660.0            6   \n",
       "\n",
       "               bikeshop.name bikeshop.city bikeshop.state  ...  product.id  \\\n",
       "0   Ithaca Mountain Climbers        Ithaca             NY  ...          48   \n",
       "1   Ithaca Mountain Climbers        Ithaca             NY  ...          52   \n",
       "2          Kansas City 29ers   Kansas City             KS  ...          76   \n",
       "3          Kansas City 29ers   Kansas City             KS  ...          52   \n",
       "4  Louisville Race Equipment    Louisville             KY  ...           2   \n",
       "\n",
       "                      model  category.primary category.secondary     frame  \\\n",
       "0           Jekyll Carbon 2          Mountain      Over Mountain    Carbon   \n",
       "1          Trigger Carbon 2          Mountain      Over Mountain    Carbon   \n",
       "2       Beast of the East 1          Mountain              Trail  Aluminum   \n",
       "3          Trigger Carbon 2          Mountain      Over Mountain    Carbon   \n",
       "4  Supersix Evo Hi-Mod Team              Road         Elite Road    Carbon   \n",
       "\n",
       "   year month  weekday_name     Region            Division  \n",
       "0  2011     1             4  Northeast     Middle Atlantic  \n",
       "1  2011     1             4  Northeast     Middle Atlantic  \n",
       "2  2011     1             0    Midwest  West North Central  \n",
       "3  2011     1             0    Midwest  West North Central  \n",
       "4  2011     1             0      South  East South Central  \n",
       "\n",
       "[5 rows x 22 columns]"
      ]
     },
     "execution_count": 3,
     "metadata": {},
     "output_type": "execute_result"
    }
   ],
   "source": [
    "# link to data\n",
    "# bikes_url = 'https://github.com/business-science/sweep/blob/master/data/bike_sales.rda?raw=true'\n",
    "# I opened the file in R and saved it as a csv file\n",
    "\n",
    "# load the data\n",
    "bike_data = pd.read_csv('bike_sale.csv', index_col = 0)\n",
    "# create seperate columns for the year, month and day of week\n",
    "bike_data['year'] = pd.DatetimeIndex(bike_data['order.date']).year\n",
    "bike_data['month'] = pd.DatetimeIndex(bike_data['order.date']).month\n",
    "bike_data['weekday_name'] = pd.DatetimeIndex(bike_data['order.date']).dayofweek #Monday=0, Sunday=6.\n",
    "\n",
    "# add in a new column for region as a nother variable\n",
    "regions_df = pd.read_csv('https://raw.githubusercontent.com/cphalpert/census-regions/master/us%20census%20bureau%20regions%20and%20divisions.csv')\n",
    "regions_df = regions_df.rename(columns = {'State Code':'bikeshop.state'})\n",
    "bike_data = bike_data.merge(regions_df, on='bikeshop.state', how='left')\n",
    "bike_data = bike_data.drop(['State'], axis=1)\n",
    "\n",
    "# look at the first five rows\n",
    "bike_data.head()"
   ]
  },
  {
   "cell_type": "code",
   "execution_count": 4,
   "metadata": {},
   "outputs": [
    {
     "name": "stdout",
     "output_type": "stream",
     "text": [
      "Thetable has 22 columns and 15644 rows\n"
     ]
    }
   ],
   "source": [
    "# review the dimensions of the dataframe\n",
    "print(\"Thetable has {} columns and {} rows\".format(len(bike_data.columns),len(bike_data)))"
   ]
  },
  {
   "cell_type": "code",
   "execution_count": 5,
   "metadata": {},
   "outputs": [
    {
     "data": {
      "text/plain": [
       "order.date            0\n",
       "order.id              0\n",
       "order.line            0\n",
       "quantity              0\n",
       "price                 0\n",
       "price.ext             0\n",
       "customer.id           0\n",
       "bikeshop.name         0\n",
       "bikeshop.city         0\n",
       "bikeshop.state        0\n",
       "latitude              0\n",
       "longitude             0\n",
       "product.id            0\n",
       "model                 0\n",
       "category.primary      0\n",
       "category.secondary    0\n",
       "frame                 0\n",
       "year                  0\n",
       "month                 0\n",
       "weekday_name          0\n",
       "Region                0\n",
       "Division              0\n",
       "dtype: int64"
      ]
     },
     "execution_count": 5,
     "metadata": {},
     "output_type": "execute_result"
    }
   ],
   "source": [
    "# idenitfy if any of the rows have na values\n",
    "bike_data.isna().sum()"
   ]
  },
  {
   "cell_type": "markdown",
   "metadata": {},
   "source": [
    "No NA values makes life much easier"
   ]
  },
  {
   "cell_type": "code",
   "execution_count": 6,
   "metadata": {},
   "outputs": [
    {
     "name": "stdout",
     "output_type": "stream",
     "text": [
      "\n",
      "Data Types:\n",
      "\n",
      "order.date             object\n",
      "order.id                int64\n",
      "order.line              int64\n",
      "quantity                int64\n",
      "price                   int64\n",
      "price.ext             float64\n",
      "customer.id             int64\n",
      "bikeshop.name          object\n",
      "bikeshop.city          object\n",
      "bikeshop.state         object\n",
      "latitude              float64\n",
      "longitude             float64\n",
      "product.id              int64\n",
      "model                  object\n",
      "category.primary       object\n",
      "category.secondary     object\n",
      "frame                  object\n",
      "year                    int64\n",
      "month                   int64\n",
      "weekday_name            int64\n",
      "Region                 object\n",
      "Division               object\n",
      "dtype: object\n"
     ]
    }
   ],
   "source": [
    "# review the data types for each of the variables\n",
    "print(\"\\nData Types:\\n\")\n",
    "print(bike_data.dtypes)"
   ]
  },
  {
   "cell_type": "code",
   "execution_count": 36,
   "metadata": {},
   "outputs": [
    {
     "data": {
      "text/html": [
       "<div>\n",
       "<style scoped>\n",
       "    .dataframe tbody tr th:only-of-type {\n",
       "        vertical-align: middle;\n",
       "    }\n",
       "\n",
       "    .dataframe tbody tr th {\n",
       "        vertical-align: top;\n",
       "    }\n",
       "\n",
       "    .dataframe thead th {\n",
       "        text-align: right;\n",
       "    }\n",
       "</style>\n",
       "<table border=\"1\" class=\"dataframe\">\n",
       "  <thead>\n",
       "    <tr style=\"text-align: right;\">\n",
       "      <th></th>\n",
       "      <th>order.id</th>\n",
       "      <th>order.line</th>\n",
       "      <th>quantity</th>\n",
       "      <th>price</th>\n",
       "      <th>price.ext</th>\n",
       "      <th>customer.id</th>\n",
       "      <th>latitude</th>\n",
       "      <th>longitude</th>\n",
       "      <th>product.id</th>\n",
       "      <th>year</th>\n",
       "      <th>month</th>\n",
       "      <th>weekday_name</th>\n",
       "    </tr>\n",
       "  </thead>\n",
       "  <tbody>\n",
       "    <tr>\n",
       "      <th>count</th>\n",
       "      <td>15644.000000</td>\n",
       "      <td>15644.000000</td>\n",
       "      <td>15644.000000</td>\n",
       "      <td>15644.000000</td>\n",
       "      <td>1.564400e+04</td>\n",
       "      <td>15644.000000</td>\n",
       "      <td>15644.000000</td>\n",
       "      <td>15644.000000</td>\n",
       "      <td>15644.000000</td>\n",
       "      <td>15644.000000</td>\n",
       "      <td>15644.000000</td>\n",
       "      <td>15644.000000</td>\n",
       "    </tr>\n",
       "    <tr>\n",
       "      <th>mean</th>\n",
       "      <td>997.953081</td>\n",
       "      <td>8.471619</td>\n",
       "      <td>8.567374</td>\n",
       "      <td>3521.110969</td>\n",
       "      <td>3.016988e+04</td>\n",
       "      <td>13.458195</td>\n",
       "      <td>37.942601</td>\n",
       "      <td>-95.049026</td>\n",
       "      <td>49.475326</td>\n",
       "      <td>2013.196561</td>\n",
       "      <td>6.120366</td>\n",
       "      <td>1.994055</td>\n",
       "    </tr>\n",
       "    <tr>\n",
       "      <th>std</th>\n",
       "      <td>569.694443</td>\n",
       "      <td>6.816723</td>\n",
       "      <td>52.363404</td>\n",
       "      <td>2667.194590</td>\n",
       "      <td>2.290462e+05</td>\n",
       "      <td>7.716678</td>\n",
       "      <td>4.591913</td>\n",
       "      <td>13.423425</td>\n",
       "      <td>28.231556</td>\n",
       "      <td>1.388683</td>\n",
       "      <td>3.051837</td>\n",
       "      <td>1.331910</td>\n",
       "    </tr>\n",
       "    <tr>\n",
       "      <th>min</th>\n",
       "      <td>1.000000</td>\n",
       "      <td>1.000000</td>\n",
       "      <td>1.000000</td>\n",
       "      <td>415.000000</td>\n",
       "      <td>4.150000e+02</td>\n",
       "      <td>1.000000</td>\n",
       "      <td>25.761680</td>\n",
       "      <td>-122.676482</td>\n",
       "      <td>1.000000</td>\n",
       "      <td>2011.000000</td>\n",
       "      <td>1.000000</td>\n",
       "      <td>0.000000</td>\n",
       "    </tr>\n",
       "    <tr>\n",
       "      <th>25%</th>\n",
       "      <td>520.000000</td>\n",
       "      <td>3.000000</td>\n",
       "      <td>1.000000</td>\n",
       "      <td>1840.000000</td>\n",
       "      <td>1.950000e+03</td>\n",
       "      <td>8.000000</td>\n",
       "      <td>35.467560</td>\n",
       "      <td>-104.990251</td>\n",
       "      <td>25.000000</td>\n",
       "      <td>2012.000000</td>\n",
       "      <td>4.000000</td>\n",
       "      <td>1.000000</td>\n",
       "    </tr>\n",
       "    <tr>\n",
       "      <th>50%</th>\n",
       "      <td>985.500000</td>\n",
       "      <td>7.000000</td>\n",
       "      <td>1.000000</td>\n",
       "      <td>2700.000000</td>\n",
       "      <td>3.200000e+03</td>\n",
       "      <td>10.000000</td>\n",
       "      <td>39.114053</td>\n",
       "      <td>-94.627464</td>\n",
       "      <td>48.000000</td>\n",
       "      <td>2013.000000</td>\n",
       "      <td>6.000000</td>\n",
       "      <td>2.000000</td>\n",
       "    </tr>\n",
       "    <tr>\n",
       "      <th>75%</th>\n",
       "      <td>1490.000000</td>\n",
       "      <td>13.000000</td>\n",
       "      <td>1.000000</td>\n",
       "      <td>4260.000000</td>\n",
       "      <td>7.000000e+03</td>\n",
       "      <td>19.000000</td>\n",
       "      <td>40.440625</td>\n",
       "      <td>-83.743038</td>\n",
       "      <td>75.000000</td>\n",
       "      <td>2014.000000</td>\n",
       "      <td>8.000000</td>\n",
       "      <td>3.000000</td>\n",
       "    </tr>\n",
       "    <tr>\n",
       "      <th>max</th>\n",
       "      <td>2000.000000</td>\n",
       "      <td>30.000000</td>\n",
       "      <td>1000.000000</td>\n",
       "      <td>12790.000000</td>\n",
       "      <td>1.066000e+07</td>\n",
       "      <td>30.000000</td>\n",
       "      <td>47.606209</td>\n",
       "      <td>-71.412834</td>\n",
       "      <td>97.000000</td>\n",
       "      <td>2015.000000</td>\n",
       "      <td>12.000000</td>\n",
       "      <td>4.000000</td>\n",
       "    </tr>\n",
       "  </tbody>\n",
       "</table>\n",
       "</div>"
      ],
      "text/plain": [
       "           order.id    order.line      quantity         price     price.ext  \\\n",
       "count  15644.000000  15644.000000  15644.000000  15644.000000  1.564400e+04   \n",
       "mean     997.953081      8.471619      8.567374   3521.110969  3.016988e+04   \n",
       "std      569.694443      6.816723     52.363404   2667.194590  2.290462e+05   \n",
       "min        1.000000      1.000000      1.000000    415.000000  4.150000e+02   \n",
       "25%      520.000000      3.000000      1.000000   1840.000000  1.950000e+03   \n",
       "50%      985.500000      7.000000      1.000000   2700.000000  3.200000e+03   \n",
       "75%     1490.000000     13.000000      1.000000   4260.000000  7.000000e+03   \n",
       "max     2000.000000     30.000000   1000.000000  12790.000000  1.066000e+07   \n",
       "\n",
       "        customer.id      latitude     longitude    product.id          year  \\\n",
       "count  15644.000000  15644.000000  15644.000000  15644.000000  15644.000000   \n",
       "mean      13.458195     37.942601    -95.049026     49.475326   2013.196561   \n",
       "std        7.716678      4.591913     13.423425     28.231556      1.388683   \n",
       "min        1.000000     25.761680   -122.676482      1.000000   2011.000000   \n",
       "25%        8.000000     35.467560   -104.990251     25.000000   2012.000000   \n",
       "50%       10.000000     39.114053    -94.627464     48.000000   2013.000000   \n",
       "75%       19.000000     40.440625    -83.743038     75.000000   2014.000000   \n",
       "max       30.000000     47.606209    -71.412834     97.000000   2015.000000   \n",
       "\n",
       "              month  weekday_name  \n",
       "count  15644.000000  15644.000000  \n",
       "mean       6.120366      1.994055  \n",
       "std        3.051837      1.331910  \n",
       "min        1.000000      0.000000  \n",
       "25%        4.000000      1.000000  \n",
       "50%        6.000000      2.000000  \n",
       "75%        8.000000      3.000000  \n",
       "max       12.000000      4.000000  "
      ]
     },
     "execution_count": 36,
     "metadata": {},
     "output_type": "execute_result"
    }
   ],
   "source": [
    "# review the metrics for each of the numerica variables\n",
    "bike_data.describe()"
   ]
  },
  {
   "cell_type": "markdown",
   "metadata": {},
   "source": [
    "Most of the columns look ok - the rea variables to focus in on are quantity, price and price.ext. There looks like there are some outliers for prices/price.ext and quantity. I will look deeper into those to make sure they are accurate. The other variables like year, month, day, order.line all look ok. "
   ]
  },
  {
   "cell_type": "code",
   "execution_count": 37,
   "metadata": {},
   "outputs": [
    {
     "data": {
      "text/plain": [
       "{'whiskers': [<matplotlib.lines.Line2D at 0x7fb7e7485bd0>,\n",
       "  <matplotlib.lines.Line2D at 0x7fb7e73bc9d0>],\n",
       " 'caps': [<matplotlib.lines.Line2D at 0x7fb7e73bced0>,\n",
       "  <matplotlib.lines.Line2D at 0x7fb7e74bab50>],\n",
       " 'boxes': [<matplotlib.lines.Line2D at 0x7fb7e7485b90>],\n",
       " 'medians': [<matplotlib.lines.Line2D at 0x7fb7e73ac950>],\n",
       " 'fliers': [<matplotlib.lines.Line2D at 0x7fb7e73ace50>],\n",
       " 'means': []}"
      ]
     },
     "execution_count": 37,
     "metadata": {},
     "output_type": "execute_result"
    },
    {
     "data": {
      "image/png": "[encoded data removed]",
      "text/plain": [
       "<Figure size 2880x1440 with 1 Axes>"
      ]
     },
     "metadata": {
      "needs_background": "light"
     },
     "output_type": "display_data"
    }
   ],
   "source": [
    "plt.boxplot(bike_data['price'])"
   ]
  },
  {
   "cell_type": "markdown",
   "metadata": {},
   "source": [
    "The boxplot shows there are some values that could potentially be outliers. I will Create an array containing the z scores for each value in the price column. Z-scores can quantify the unusualness of an observation when your data follow the normal distribution. Z-scores are the number of standard deviations above and below the mean that each value falls."
   ]
  },
  {
   "cell_type": "code",
   "execution_count": 38,
   "metadata": {},
   "outputs": [
    {
     "name": "stdout",
     "output_type": "stream",
     "text": [
      "There are 0 outliers in this dataset\n"
     ]
    }
   ],
   "source": [
    "z_score = stats.zscore(bike_data['price'])\n",
    "# Create a data frame with a new column z_score to investigate the outliers further\n",
    "# An outlier is any SPS score that has a z score greater than 3 or less than -3.\n",
    "df_outlier_test = bike_data\n",
    "df_outlier_test['z_score'] = z_score\n",
    "df_outlier_test = df_outlier_test[df_outlier_test['z_score'] < -3]\n",
    "\n",
    "def plural_outliers(count):\n",
    "    if count == 1:\n",
    "        x ='outlier'\n",
    "    else:\n",
    "        x = 'outliers'\n",
    "    return x\n",
    "\n",
    "outlier_count = df_outlier_test.shape[0]\n",
    "# The number of rows in the new data frames would be the number of outliers\n",
    "print(\"There are\",outlier_count,plural_outliers(outlier_count),'in this dataset')"
   ]
  },
  {
   "cell_type": "code",
   "execution_count": 39,
   "metadata": {},
   "outputs": [
    {
     "data": {
      "text/plain": [
       "{'whiskers': [<matplotlib.lines.Line2D at 0x7fb7e72c6f10>,\n",
       "  <matplotlib.lines.Line2D at 0x7fb7e7308e50>],\n",
       " 'caps': [<matplotlib.lines.Line2D at 0x7fb7e72ea610>,\n",
       "  <matplotlib.lines.Line2D at 0x7fb7e72eab10>],\n",
       " 'boxes': [<matplotlib.lines.Line2D at 0x7fb7e72c6ed0>],\n",
       " 'medians': [<matplotlib.lines.Line2D at 0x7fb7e72efbd0>],\n",
       " 'fliers': [<matplotlib.lines.Line2D at 0x7fb7e72df590>],\n",
       " 'means': []}"
      ]
     },
     "execution_count": 39,
     "metadata": {},
     "output_type": "execute_result"
    },
    {
     "data": {
      "image/png": "[encoded data removed]",
      "text/plain": [
       "<Figure size 2880x1440 with 1 Axes>"
      ]
     },
     "metadata": {
      "needs_background": "light"
     },
     "output_type": "display_data"
    }
   ],
   "source": [
    "plt.boxplot(bike_data['quantity'])"
   ]
  },
  {
   "cell_type": "code",
   "execution_count": 40,
   "metadata": {},
   "outputs": [
    {
     "name": "stdout",
     "output_type": "stream",
     "text": [
      "There are 0 outliers in this dataset\n"
     ]
    }
   ],
   "source": [
    "z_score = stats.zscore(bike_data['quantity'])\n",
    "# Create a data frame with a new column z_score to investigate the outliers further\n",
    "# An outlier is any SPS score that has a z score greater than 3 or less than -3.\n",
    "df_outlier_test = bike_data\n",
    "df_outlier_test['z_score'] = z_score\n",
    "df_outlier_test = df_outlier_test[df_outlier_test['z_score'] < -3]\n",
    "\n",
    "def plural_outliers(count):\n",
    "    if count == 1:\n",
    "        x ='outlier'\n",
    "    else:\n",
    "        x = 'outliers'\n",
    "    return x\n",
    "\n",
    "outlier_count = df_outlier_test.shape[0]\n",
    "# The number of rows in the new data frames would be the number of outliers\n",
    "print(\"There are\",outlier_count,plural_outliers(outlier_count),'in this dataset')"
   ]
  },
  {
   "cell_type": "code",
   "execution_count": 41,
   "metadata": {},
   "outputs": [],
   "source": [
    "bike_data = bike_data.drop(['z_score'], axis=1)"
   ]
  },
  {
   "cell_type": "code",
   "execution_count": 42,
   "metadata": {},
   "outputs": [
    {
     "data": {
      "image/png": "[encoded data removed]",
      "text/plain": [
       "<Figure size 2880x1440 with 12 Axes>"
      ]
     },
     "metadata": {
      "needs_background": "light"
     },
     "output_type": "display_data"
    }
   ],
   "source": [
    "# create histograms for all the numerical values and review their distributions\n",
    "num_features = []\n",
    "for col in bike_data:\n",
    "    if bike_data[col].dtypes != \"object\":\n",
    "        num_features.append(col)\n",
    "\n",
    "plt.rcParams['figure.figsize'] = (40, 20)\n",
    "fig, axes = plt.subplots(nrows = int((len(num_features)/3)), ncols = 3)\n",
    "\n",
    "xaxes = num_features\n",
    "yaxes = ['Counts']*len(num_features)\n",
    "\n",
    "# draw histograms\n",
    "axes = axes.ravel()\n",
    "# the for statements goes through the 4 features identified and creates histograms of them\n",
    "for idx, ax in enumerate(axes):\n",
    "    ax.hist(bike_data[num_features[idx]].dropna(), bins=40)\n",
    "    ax.set_xlabel(xaxes[idx], fontsize=20)\n",
    "    ax.set_ylabel(yaxes[idx], fontsize=20)\n",
    "    ax.tick_params(axis='both', labelsize=15)\n",
    "plt.show()"
   ]
  },
  {
   "cell_type": "markdown",
   "metadata": {},
   "source": [
    "Some immediate observations from the variables:\n",
    "- order.line and quantity are skewed right with more customers ordering a small amount per order\n",
    "- price is skwewed right as well with more customers staying around 4k and less\n",
    "- product.id is fairly evenly distributed with no product being the overwhelming best seller\n",
    "- It looks like there has been a steady increase in volume except for a sip in 2014\n",
    "- Spring and the begining of the week seems to be the best selling timeframe"
   ]
  },
  {
   "cell_type": "code",
   "execution_count": 43,
   "metadata": {},
   "outputs": [
    {
     "name": "stdout",
     "output_type": "stream",
     "text": [
      "Column Name Is: order.date and it contains 962 Unique Values\n",
      "There Are Too Many Values To List\n",
      "\n",
      "Column Name Is: bikeshop.name and it contains 30 Unique Values\n",
      "There Are Too Many Values To List\n",
      "\n",
      "Column Name Is: bikeshop.city and it contains 30 Unique Values\n",
      "There Are Too Many Values To List\n",
      "\n",
      "Column Name Is: bikeshop.state and it contains 21 Unique Values\n",
      "There Are Too Many Values To List\n",
      "\n",
      "Column Name Is: model and it contains 97 Unique Values\n",
      "There Are Too Many Values To List\n",
      "\n",
      "Column Name Is: category.primary and it contains 2 Unique Values\n",
      "The Unique Values Are: ['Mountain' 'Road']\n",
      "\n",
      "Column Name Is: category.secondary and it contains 9 Unique Values\n",
      "The Unique Values Are: ['Over Mountain' 'Trail' 'Elite Road' 'Endurance Road' 'Sport'\n",
      " 'Cross Country Race' 'Cyclocross' 'Triathalon' 'Fat Bike']\n",
      "\n",
      "Column Name Is: frame and it contains 2 Unique Values\n",
      "The Unique Values Are: ['Carbon' 'Aluminum']\n",
      "\n",
      "Column Name Is: Region and it contains 4 Unique Values\n",
      "The Unique Values Are: ['Northeast' 'Midwest' 'South' 'West']\n",
      "\n",
      "Column Name Is: Division and it contains 9 Unique Values\n",
      "The Unique Values Are: ['Middle Atlantic' 'West North Central' 'East South Central'\n",
      " 'East North Central' 'Mountain' 'West South Central' 'Pacific'\n",
      " 'South Atlantic' 'New England']\n",
      "\n"
     ]
    }
   ],
   "source": [
    "# Review the unique values in each categorical variable\n",
    "def categorical_unique(data):\n",
    "    for col in data:\n",
    "        if data[col].dtypes == \"object\":\n",
    "            print(\"Column Name Is: \" + str(col)+\" and it contains \"+str(len(data[col].unique())) + \" Unique Values\")\n",
    "            if len(data[col].unique()) < 10:\n",
    "                print(\"The Unique Values Are: \" + str(data[col].unique())+str(\"\\n\"))\n",
    "            else:\n",
    "                print(\"There Are Too Many Values To List\\n\")\n",
    "        else:\n",
    "            pass\n",
    "\n",
    "categorical_unique(bike_data)"
   ]
  },
  {
   "cell_type": "markdown",
   "metadata": {},
   "source": [
    "The variables that would be good to slice and dice on based on their lower amount of unqiue values include category.primary, category.secondary, frame, Region and Division"
   ]
  },
  {
   "cell_type": "code",
   "execution_count": 44,
   "metadata": {},
   "outputs": [],
   "source": [
    "# creat a function that returns a list of correlations greater than 0.20\n",
    "def corr_list(data):\n",
    "    corr_list = data.corr().unstack().sort_values(kind=\"quicksort\").drop_duplicates()\n",
    "    corr_df = pd.DataFrame(corr_list).reset_index()\n",
    "    corr_df.columns = ['Variable_1','Variable_2','Correlation']\n",
    "    corr_df['Direction'] = np.where(corr_df['Correlation'] > 0, 'Positive', 'Negative')\n",
    "    corr_df['Correlation'] = corr_df['Correlation'].abs()\n",
    "    corr_df = corr_df.sort_values(by = 'Correlation', ascending = False)\n",
    "    corr_df = corr_df[corr_df['Correlation'] != 1]\n",
    "    return corr_df[corr_df['Correlation']>0.20]"
   ]
  },
  {
   "cell_type": "code",
   "execution_count": 45,
   "metadata": {},
   "outputs": [
    {
     "data": {
      "text/html": [
       "<div>\n",
       "<style scoped>\n",
       "    .dataframe tbody tr th:only-of-type {\n",
       "        vertical-align: middle;\n",
       "    }\n",
       "\n",
       "    .dataframe tbody tr th {\n",
       "        vertical-align: top;\n",
       "    }\n",
       "\n",
       "    .dataframe thead th {\n",
       "        text-align: right;\n",
       "    }\n",
       "</style>\n",
       "<table border=\"1\" class=\"dataframe\">\n",
       "  <thead>\n",
       "    <tr style=\"text-align: right;\">\n",
       "      <th></th>\n",
       "      <th>Variable_1</th>\n",
       "      <th>Variable_2</th>\n",
       "      <th>Correlation</th>\n",
       "      <th>Direction</th>\n",
       "    </tr>\n",
       "  </thead>\n",
       "  <tbody>\n",
       "    <tr>\n",
       "      <th>65</th>\n",
       "      <td>order.id</td>\n",
       "      <td>year</td>\n",
       "      <td>0.976273</td>\n",
       "      <td>Positive</td>\n",
       "    </tr>\n",
       "    <tr>\n",
       "      <th>64</th>\n",
       "      <td>quantity</td>\n",
       "      <td>price.ext</td>\n",
       "      <td>0.801970</td>\n",
       "      <td>Positive</td>\n",
       "    </tr>\n",
       "    <tr>\n",
       "      <th>0</th>\n",
       "      <td>customer.id</td>\n",
       "      <td>latitude</td>\n",
       "      <td>0.481647</td>\n",
       "      <td>Negative</td>\n",
       "    </tr>\n",
       "  </tbody>\n",
       "</table>\n",
       "</div>"
      ],
      "text/plain": [
       "     Variable_1 Variable_2  Correlation Direction\n",
       "65     order.id       year     0.976273  Positive\n",
       "64     quantity  price.ext     0.801970  Positive\n",
       "0   customer.id   latitude     0.481647  Negative"
      ]
     },
     "execution_count": 45,
     "metadata": {},
     "output_type": "execute_result"
    }
   ],
   "source": [
    "corr_list(bike_data)"
   ]
  },
  {
   "cell_type": "markdown",
   "metadata": {},
   "source": [
    "Not a whole lot of useful correlation from the correlation matrix. The only one that is useful is the quantity and price.ext correlation of 0.80. This makes sense it would have a high, positive correlation becuase the more of a product you buy, the higher your price will be. "
   ]
  },
  {
   "cell_type": "code",
   "execution_count": 69,
   "metadata": {},
   "outputs": [
    {
     "data": {
      "image/png": "[encoded data removed]",
      "text/plain": [
       "<Figure size 864x720 with 1 Axes>"
      ]
     },
     "metadata": {
      "needs_background": "light"
     },
     "output_type": "display_data"
    }
   ],
   "source": [
    "# display bar chart of average sale price sorted by state\n",
    "ax = bike_data.groupby(['bikeshop.state'])['price.ext'].mean().plot(kind='bar', fontsize=14, figsize=(12,10))\n",
    "ax.set_title('Average Sales Price by State\\n', fontsize=20)\n",
    "ax.set_xlabel('State', fontsize=18)\n",
    "ax.set_ylabel('Average Sale Price', fontsize=18)\n",
    "ax.yaxis.set_major_formatter(matplotlib.ticker.StrMethodFormatter('${x:,.0f}'))\n",
    "ax.yaxis.labelpad = 20\n",
    "plt.xticks(rotation=0)\n",
    "ax.xaxis.labelpad = 20\n",
    "plt.show()"
   ]
  },
  {
   "cell_type": "code",
   "execution_count": 71,
   "metadata": {},
   "outputs": [
    {
     "data": {
      "text/plain": [
       "bikeshop.state\n",
       "AZ    22313.098527\n",
       "CA    36458.726937\n",
       "CO    24224.841755\n",
       "FL    18165.639777\n",
       "IN    40732.316017\n",
       "KS    29311.294155\n",
       "KY    21017.239264\n",
       "LA    24165.846047\n",
       "MI    48527.511990\n",
       "MN    21782.837302\n",
       "NM    78485.265700\n",
       "NV    55801.776596\n",
       "NY    31452.747506\n",
       "OH    47885.707071\n",
       "OK    31650.283447\n",
       "OR    17604.282828\n",
       "PA    48415.543710\n",
       "RI    16088.248848\n",
       "TN    18868.859649\n",
       "TX    20187.649326\n",
       "WA     7504.120370\n",
       "Name: price.ext, dtype: float64"
      ]
     },
     "execution_count": 71,
     "metadata": {},
     "output_type": "execute_result"
    }
   ],
   "source": [
    "bike_data.groupby(['bikeshop.state'])['price.ext'].mean()"
   ]
  },
  {
   "cell_type": "code",
   "execution_count": 62,
   "metadata": {},
   "outputs": [
    {
     "data": {
      "image/png": "[encoded data removed]",
      "text/plain": [
       "<Figure size 864x720 with 1 Axes>"
      ]
     },
     "metadata": {
      "needs_background": "light"
     },
     "output_type": "display_data"
    }
   ],
   "source": [
    "# display bar chart of the total number of unique sales by state\n",
    "ax = bike_data.groupby(['bikeshop.state'])['order.id'].nunique().plot(kind='bar', fontsize=14, figsize=(12,10))\n",
    "ax.set_title('Total Unique Sales by State\\n', fontsize=20)\n",
    "ax.set_xlabel('State', fontsize=18)\n",
    "ax.set_ylabel('Total Sales', fontsize=18)\n",
    "ax.yaxis.labelpad = 20\n",
    "plt.xticks(rotation=0)\n",
    "ax.xaxis.labelpad = 20\n",
    "plt.show()"
   ]
  },
  {
   "cell_type": "code",
   "execution_count": 70,
   "metadata": {},
   "outputs": [
    {
     "data": {
      "text/html": [
       "<div>\n",
       "<style scoped>\n",
       "    .dataframe tbody tr th:only-of-type {\n",
       "        vertical-align: middle;\n",
       "    }\n",
       "\n",
       "    .dataframe tbody tr th {\n",
       "        vertical-align: top;\n",
       "    }\n",
       "\n",
       "    .dataframe thead th {\n",
       "        text-align: right;\n",
       "    }\n",
       "</style>\n",
       "<table border=\"1\" class=\"dataframe\">\n",
       "  <thead>\n",
       "    <tr style=\"text-align: right;\">\n",
       "      <th></th>\n",
       "      <th>bikeshop.state</th>\n",
       "      <th>Average_Sale</th>\n",
       "      <th>Total_Orders</th>\n",
       "      <th>Total_Shops</th>\n",
       "    </tr>\n",
       "  </thead>\n",
       "  <tbody>\n",
       "    <tr>\n",
       "      <th>0</th>\n",
       "      <td>NM</td>\n",
       "      <td>78485.265700</td>\n",
       "      <td>27</td>\n",
       "      <td>1</td>\n",
       "    </tr>\n",
       "    <tr>\n",
       "      <th>1</th>\n",
       "      <td>NV</td>\n",
       "      <td>55801.776596</td>\n",
       "      <td>54</td>\n",
       "      <td>1</td>\n",
       "    </tr>\n",
       "    <tr>\n",
       "      <th>2</th>\n",
       "      <td>MI</td>\n",
       "      <td>48527.511990</td>\n",
       "      <td>118</td>\n",
       "      <td>2</td>\n",
       "    </tr>\n",
       "    <tr>\n",
       "      <th>3</th>\n",
       "      <td>PA</td>\n",
       "      <td>48415.543710</td>\n",
       "      <td>58</td>\n",
       "      <td>2</td>\n",
       "    </tr>\n",
       "    <tr>\n",
       "      <th>4</th>\n",
       "      <td>OH</td>\n",
       "      <td>47885.707071</td>\n",
       "      <td>64</td>\n",
       "      <td>2</td>\n",
       "    </tr>\n",
       "    <tr>\n",
       "      <th>5</th>\n",
       "      <td>IN</td>\n",
       "      <td>40732.316017</td>\n",
       "      <td>30</td>\n",
       "      <td>1</td>\n",
       "    </tr>\n",
       "    <tr>\n",
       "      <th>6</th>\n",
       "      <td>CA</td>\n",
       "      <td>36458.726937</td>\n",
       "      <td>66</td>\n",
       "      <td>2</td>\n",
       "    </tr>\n",
       "    <tr>\n",
       "      <th>7</th>\n",
       "      <td>OK</td>\n",
       "      <td>31650.283447</td>\n",
       "      <td>104</td>\n",
       "      <td>1</td>\n",
       "    </tr>\n",
       "    <tr>\n",
       "      <th>8</th>\n",
       "      <td>NY</td>\n",
       "      <td>31452.747506</td>\n",
       "      <td>172</td>\n",
       "      <td>2</td>\n",
       "    </tr>\n",
       "    <tr>\n",
       "      <th>9</th>\n",
       "      <td>KS</td>\n",
       "      <td>29311.294155</td>\n",
       "      <td>389</td>\n",
       "      <td>2</td>\n",
       "    </tr>\n",
       "    <tr>\n",
       "      <th>10</th>\n",
       "      <td>CO</td>\n",
       "      <td>24224.841755</td>\n",
       "      <td>216</td>\n",
       "      <td>1</td>\n",
       "    </tr>\n",
       "    <tr>\n",
       "      <th>11</th>\n",
       "      <td>LA</td>\n",
       "      <td>24165.846047</td>\n",
       "      <td>88</td>\n",
       "      <td>1</td>\n",
       "    </tr>\n",
       "    <tr>\n",
       "      <th>12</th>\n",
       "      <td>AZ</td>\n",
       "      <td>22313.098527</td>\n",
       "      <td>145</td>\n",
       "      <td>1</td>\n",
       "    </tr>\n",
       "    <tr>\n",
       "      <th>13</th>\n",
       "      <td>MN</td>\n",
       "      <td>21782.837302</td>\n",
       "      <td>65</td>\n",
       "      <td>1</td>\n",
       "    </tr>\n",
       "    <tr>\n",
       "      <th>14</th>\n",
       "      <td>KY</td>\n",
       "      <td>21017.239264</td>\n",
       "      <td>47</td>\n",
       "      <td>1</td>\n",
       "    </tr>\n",
       "    <tr>\n",
       "      <th>15</th>\n",
       "      <td>TX</td>\n",
       "      <td>20187.649326</td>\n",
       "      <td>79</td>\n",
       "      <td>3</td>\n",
       "    </tr>\n",
       "    <tr>\n",
       "      <th>16</th>\n",
       "      <td>TN</td>\n",
       "      <td>18868.859649</td>\n",
       "      <td>37</td>\n",
       "      <td>1</td>\n",
       "    </tr>\n",
       "    <tr>\n",
       "      <th>17</th>\n",
       "      <td>FL</td>\n",
       "      <td>18165.639777</td>\n",
       "      <td>104</td>\n",
       "      <td>2</td>\n",
       "    </tr>\n",
       "    <tr>\n",
       "      <th>18</th>\n",
       "      <td>OR</td>\n",
       "      <td>17604.282828</td>\n",
       "      <td>61</td>\n",
       "      <td>1</td>\n",
       "    </tr>\n",
       "    <tr>\n",
       "      <th>19</th>\n",
       "      <td>RI</td>\n",
       "      <td>16088.248848</td>\n",
       "      <td>45</td>\n",
       "      <td>1</td>\n",
       "    </tr>\n",
       "    <tr>\n",
       "      <th>20</th>\n",
       "      <td>WA</td>\n",
       "      <td>7504.120370</td>\n",
       "      <td>31</td>\n",
       "      <td>1</td>\n",
       "    </tr>\n",
       "  </tbody>\n",
       "</table>\n",
       "</div>"
      ],
      "text/plain": [
       "   bikeshop.state  Average_Sale  Total_Orders  Total_Shops\n",
       "0              NM  78485.265700            27            1\n",
       "1              NV  55801.776596            54            1\n",
       "2              MI  48527.511990           118            2\n",
       "3              PA  48415.543710            58            2\n",
       "4              OH  47885.707071            64            2\n",
       "5              IN  40732.316017            30            1\n",
       "6              CA  36458.726937            66            2\n",
       "7              OK  31650.283447           104            1\n",
       "8              NY  31452.747506           172            2\n",
       "9              KS  29311.294155           389            2\n",
       "10             CO  24224.841755           216            1\n",
       "11             LA  24165.846047            88            1\n",
       "12             AZ  22313.098527           145            1\n",
       "13             MN  21782.837302            65            1\n",
       "14             KY  21017.239264            47            1\n",
       "15             TX  20187.649326            79            3\n",
       "16             TN  18868.859649            37            1\n",
       "17             FL  18165.639777           104            2\n",
       "18             OR  17604.282828            61            1\n",
       "19             RI  16088.248848            45            1\n",
       "20             WA   7504.120370            31            1"
      ]
     },
     "execution_count": 70,
     "metadata": {},
     "output_type": "execute_result"
    }
   ],
   "source": [
    "# review the average sale price by state, as well as total orders and total shops \n",
    "state_df = pd.concat([bike_data.groupby(['bikeshop.state'])['price.ext'].mean(), bike_data.groupby(['bikeshop.state'])['order.id'].nunique()], axis = 1)\n",
    "state_df.columns = ['Average_Sale','Total_Orders']\n",
    "state_df['Total_Shops'] = bike_data.groupby(['bikeshop.state'])['bikeshop.name'].nunique()\n",
    "state_df = state_df.sort_values(by='Average_Sale', ascending = False).reset_index()\n",
    "state_df"
   ]
  },
  {
   "cell_type": "code",
   "execution_count": 81,
   "metadata": {},
   "outputs": [
    {
     "data": {
      "text/html": [
       "<div>\n",
       "<style scoped>\n",
       "    .dataframe tbody tr th:only-of-type {\n",
       "        vertical-align: middle;\n",
       "    }\n",
       "\n",
       "    .dataframe tbody tr th {\n",
       "        vertical-align: top;\n",
       "    }\n",
       "\n",
       "    .dataframe thead th {\n",
       "        text-align: right;\n",
       "    }\n",
       "</style>\n",
       "<table border=\"1\" class=\"dataframe\">\n",
       "  <thead>\n",
       "    <tr style=\"text-align: right;\">\n",
       "      <th></th>\n",
       "      <th>bikeshop.state</th>\n",
       "      <th>Average_Sale</th>\n",
       "      <th>Total_Orders</th>\n",
       "      <th>Total_Shops</th>\n",
       "    </tr>\n",
       "  </thead>\n",
       "  <tbody>\n",
       "    <tr>\n",
       "      <th>0</th>\n",
       "      <td>KS</td>\n",
       "      <td>29311.294155</td>\n",
       "      <td>389</td>\n",
       "      <td>2</td>\n",
       "    </tr>\n",
       "    <tr>\n",
       "      <th>1</th>\n",
       "      <td>CO</td>\n",
       "      <td>24224.841755</td>\n",
       "      <td>216</td>\n",
       "      <td>1</td>\n",
       "    </tr>\n",
       "    <tr>\n",
       "      <th>2</th>\n",
       "      <td>NY</td>\n",
       "      <td>31452.747506</td>\n",
       "      <td>172</td>\n",
       "      <td>2</td>\n",
       "    </tr>\n",
       "    <tr>\n",
       "      <th>3</th>\n",
       "      <td>AZ</td>\n",
       "      <td>22313.098527</td>\n",
       "      <td>145</td>\n",
       "      <td>1</td>\n",
       "    </tr>\n",
       "    <tr>\n",
       "      <th>4</th>\n",
       "      <td>MI</td>\n",
       "      <td>48527.511990</td>\n",
       "      <td>118</td>\n",
       "      <td>2</td>\n",
       "    </tr>\n",
       "    <tr>\n",
       "      <th>5</th>\n",
       "      <td>FL</td>\n",
       "      <td>18165.639777</td>\n",
       "      <td>104</td>\n",
       "      <td>2</td>\n",
       "    </tr>\n",
       "    <tr>\n",
       "      <th>6</th>\n",
       "      <td>OK</td>\n",
       "      <td>31650.283447</td>\n",
       "      <td>104</td>\n",
       "      <td>1</td>\n",
       "    </tr>\n",
       "    <tr>\n",
       "      <th>7</th>\n",
       "      <td>LA</td>\n",
       "      <td>24165.846047</td>\n",
       "      <td>88</td>\n",
       "      <td>1</td>\n",
       "    </tr>\n",
       "    <tr>\n",
       "      <th>8</th>\n",
       "      <td>TX</td>\n",
       "      <td>20187.649326</td>\n",
       "      <td>79</td>\n",
       "      <td>3</td>\n",
       "    </tr>\n",
       "    <tr>\n",
       "      <th>9</th>\n",
       "      <td>CA</td>\n",
       "      <td>36458.726937</td>\n",
       "      <td>66</td>\n",
       "      <td>2</td>\n",
       "    </tr>\n",
       "    <tr>\n",
       "      <th>10</th>\n",
       "      <td>MN</td>\n",
       "      <td>21782.837302</td>\n",
       "      <td>65</td>\n",
       "      <td>1</td>\n",
       "    </tr>\n",
       "    <tr>\n",
       "      <th>11</th>\n",
       "      <td>OH</td>\n",
       "      <td>47885.707071</td>\n",
       "      <td>64</td>\n",
       "      <td>2</td>\n",
       "    </tr>\n",
       "    <tr>\n",
       "      <th>12</th>\n",
       "      <td>OR</td>\n",
       "      <td>17604.282828</td>\n",
       "      <td>61</td>\n",
       "      <td>1</td>\n",
       "    </tr>\n",
       "    <tr>\n",
       "      <th>13</th>\n",
       "      <td>PA</td>\n",
       "      <td>48415.543710</td>\n",
       "      <td>58</td>\n",
       "      <td>2</td>\n",
       "    </tr>\n",
       "    <tr>\n",
       "      <th>14</th>\n",
       "      <td>NV</td>\n",
       "      <td>55801.776596</td>\n",
       "      <td>54</td>\n",
       "      <td>1</td>\n",
       "    </tr>\n",
       "    <tr>\n",
       "      <th>15</th>\n",
       "      <td>KY</td>\n",
       "      <td>21017.239264</td>\n",
       "      <td>47</td>\n",
       "      <td>1</td>\n",
       "    </tr>\n",
       "    <tr>\n",
       "      <th>16</th>\n",
       "      <td>RI</td>\n",
       "      <td>16088.248848</td>\n",
       "      <td>45</td>\n",
       "      <td>1</td>\n",
       "    </tr>\n",
       "    <tr>\n",
       "      <th>17</th>\n",
       "      <td>TN</td>\n",
       "      <td>18868.859649</td>\n",
       "      <td>37</td>\n",
       "      <td>1</td>\n",
       "    </tr>\n",
       "    <tr>\n",
       "      <th>18</th>\n",
       "      <td>WA</td>\n",
       "      <td>7504.120370</td>\n",
       "      <td>31</td>\n",
       "      <td>1</td>\n",
       "    </tr>\n",
       "    <tr>\n",
       "      <th>19</th>\n",
       "      <td>IN</td>\n",
       "      <td>40732.316017</td>\n",
       "      <td>30</td>\n",
       "      <td>1</td>\n",
       "    </tr>\n",
       "    <tr>\n",
       "      <th>20</th>\n",
       "      <td>NM</td>\n",
       "      <td>78485.265700</td>\n",
       "      <td>27</td>\n",
       "      <td>1</td>\n",
       "    </tr>\n",
       "  </tbody>\n",
       "</table>\n",
       "</div>"
      ],
      "text/plain": [
       "   bikeshop.state  Average_Sale  Total_Orders  Total_Shops\n",
       "0              KS  29311.294155           389            2\n",
       "1              CO  24224.841755           216            1\n",
       "2              NY  31452.747506           172            2\n",
       "3              AZ  22313.098527           145            1\n",
       "4              MI  48527.511990           118            2\n",
       "5              FL  18165.639777           104            2\n",
       "6              OK  31650.283447           104            1\n",
       "7              LA  24165.846047            88            1\n",
       "8              TX  20187.649326            79            3\n",
       "9              CA  36458.726937            66            2\n",
       "10             MN  21782.837302            65            1\n",
       "11             OH  47885.707071            64            2\n",
       "12             OR  17604.282828            61            1\n",
       "13             PA  48415.543710            58            2\n",
       "14             NV  55801.776596            54            1\n",
       "15             KY  21017.239264            47            1\n",
       "16             RI  16088.248848            45            1\n",
       "17             TN  18868.859649            37            1\n",
       "18             WA   7504.120370            31            1\n",
       "19             IN  40732.316017            30            1\n",
       "20             NM  78485.265700            27            1"
      ]
     },
     "execution_count": 81,
     "metadata": {},
     "output_type": "execute_result"
    }
   ],
   "source": [
    "# sort by total orders\n",
    "state_df = pd.concat([bike_data.groupby(['bikeshop.state'])['price.ext'].mean(), bike_data.groupby(['bikeshop.state'])['order.id'].nunique()], axis = 1)\n",
    "state_df.columns = ['Average_Sale','Total_Orders']\n",
    "state_df['Total_Shops'] = bike_data.groupby(['bikeshop.state'])['bikeshop.name'].nunique()\n",
    "state_df = state_df.sort_values(by='Total_Orders', ascending = False).reset_index()\n",
    "state_df"
   ]
  },
  {
   "cell_type": "code",
   "execution_count": 86,
   "metadata": {},
   "outputs": [
    {
     "data": {
      "application/vnd.plotly.v1+json": {
       "config": {
        "plotlyServerURL": "https://plot.ly"
       },
       "data": [
        {
         "coloraxis": "coloraxis",
         "geo": "geo",
         "hovertemplate": "<b>%{hovertext}</b><br><br>bikeshop.state=%{location}<br>Average_Sale=%{z}<extra></extra>",
         "hovertext": [
          "KS",
          "CO",
          "NY",
          "AZ",
          "MI",
          "FL",
          "OK",
          "LA",
          "TX",
          "CA",
          "MN",
          "OH",
          "OR",
          "PA",
          "NV",
          "KY",
          "RI",
          "TN",
          "WA",
          "IN",
          "NM"
         ],
         "locationmode": "USA-states",
         "locations": [
          "KS",
          "CO",
          "NY",
          "AZ",
          "MI",
          "FL",
          "OK",
          "LA",
          "TX",
          "CA",
          "MN",
          "OH",
          "OR",
          "PA",
          "NV",
          "KY",
          "RI",
          "TN",
          "WA",
          "IN",
          "NM"
         ],
         "name": "",
         "type": "choropleth",
         "z": [
          29311.294155427102,
          24224.84175458079,
          31452.74750575595,
          22313.0985267035,
          48527.51199040767,
          18165.639777468707,
          31650.28344671202,
          24165.846047156727,
          20187.649325626204,
          36458.72693726937,
          21782.8373015873,
          47885.707070707074,
          17604.282828282827,
          48415.543710021324,
          55801.77659574468,
          21017.23926380368,
          16088.248847926267,
          18868.859649122805,
          7504.12037037037,
          40732.316017316014,
          78485.2657004831
         ]
        }
       ],
       "layout": {
        "coloraxis": {
         "colorbar": {
          "title": {
           "text": "Average_Sale"
          }
         },
         "colorscale": [
          [
           0,
           "gray"
          ],
          [
           1,
           "green"
          ]
         ]
        },
        "geo": {
         "center": {},
         "domain": {
          "x": [
           0,
           1
          ],
          "y": [
           0,
           1
          ]
         },
         "scope": "usa"
        },
        "legend": {
         "tracegroupgap": 0
        },
        "margin": {
         "t": 60
        },
        "template": {
         "data": {
          "bar": [
           {
            "error_x": {
             "color": "#2a3f5f"
            },
            "error_y": {
             "color": "#2a3f5f"
            },
            "marker": {
             "line": {
              "color": "#E5ECF6",
              "width": 0.5
             }
            },
            "type": "bar"
           }
          ],
          "barpolar": [
           {
            "marker": {
             "line": {
              "color": "#E5ECF6",
              "width": 0.5
             }
            },
            "type": "barpolar"
           }
          ],
          "carpet": [
           {
            "aaxis": {
             "endlinecolor": "#2a3f5f",
             "gridcolor": "white",
             "linecolor": "white",
             "minorgridcolor": "white",
             "startlinecolor": "#2a3f5f"
            },
            "baxis": {
             "endlinecolor": "#2a3f5f",
             "gridcolor": "white",
             "linecolor": "white",
             "minorgridcolor": "white",
             "startlinecolor": "#2a3f5f"
            },
            "type": "carpet"
           }
          ],
          "choropleth": [
           {
            "colorbar": {
             "outlinewidth": 0,
             "ticks": ""
            },
            "type": "choropleth"
           }
          ],
          "contour": [
           {
            "colorbar": {
             "outlinewidth": 0,
             "ticks": ""
            },
            "colorscale": [
             [
              0,
              "#0d0887"
             ],
             [
              0.1111111111111111,
              "#46039f"
             ],
             [
              0.2222222222222222,
              "#7201a8"
             ],
             [
              0.3333333333333333,
              "#9c179e"
             ],
             [
              0.4444444444444444,
              "#bd3786"
             ],
             [
              0.5555555555555556,
              "#d8576b"
             ],
             [
              0.6666666666666666,
              "#ed7953"
             ],
             [
              0.7777777777777778,
              "#fb9f3a"
             ],
             [
              0.8888888888888888,
              "#fdca26"
             ],
             [
              1,
              "#f0f921"
             ]
            ],
            "type": "contour"
           }
          ],
          "contourcarpet": [
           {
            "colorbar": {
             "outlinewidth": 0,
             "ticks": ""
            },
            "type": "contourcarpet"
           }
          ],
          "heatmap": [
           {
            "colorbar": {
             "outlinewidth": 0,
             "ticks": ""
            },
            "colorscale": [
             [
              0,
              "#0d0887"
             ],
             [
              0.1111111111111111,
              "#46039f"
             ],
             [
              0.2222222222222222,
              "#7201a8"
             ],
             [
              0.3333333333333333,
              "#9c179e"
             ],
             [
              0.4444444444444444,
              "#bd3786"
             ],
             [
              0.5555555555555556,
              "#d8576b"
             ],
             [
              0.6666666666666666,
              "#ed7953"
             ],
             [
              0.7777777777777778,
              "#fb9f3a"
             ],
             [
              0.8888888888888888,
              "#fdca26"
             ],
             [
              1,
              "#f0f921"
             ]
            ],
            "type": "heatmap"
           }
          ],
          "heatmapgl": [
           {
            "colorbar": {
             "outlinewidth": 0,
             "ticks": ""
            },
            "colorscale": [
             [
              0,
              "#0d0887"
             ],
             [
              0.1111111111111111,
              "#46039f"
             ],
             [
              0.2222222222222222,
              "#7201a8"
             ],
             [
              0.3333333333333333,
              "#9c179e"
             ],
             [
              0.4444444444444444,
              "#bd3786"
             ],
             [
              0.5555555555555556,
              "#d8576b"
             ],
             [
              0.6666666666666666,
              "#ed7953"
             ],
             [
              0.7777777777777778,
              "#fb9f3a"
             ],
             [
              0.8888888888888888,
              "#fdca26"
             ],
             [
              1,
              "#f0f921"
             ]
            ],
            "type": "heatmapgl"
           }
          ],
          "histogram": [
           {
            "marker": {
             "colorbar": {
              "outlinewidth": 0,
              "ticks": ""
             }
            },
            "type": "histogram"
           }
          ],
          "histogram2d": [
           {
            "colorbar": {
             "outlinewidth": 0,
             "ticks": ""
            },
            "colorscale": [
             [
              0,
              "#0d0887"
             ],
             [
              0.1111111111111111,
              "#46039f"
             ],
             [
              0.2222222222222222,
              "#7201a8"
             ],
             [
              0.3333333333333333,
              "#9c179e"
             ],
             [
              0.4444444444444444,
              "#bd3786"
             ],
             [
              0.5555555555555556,
              "#d8576b"
             ],
             [
              0.6666666666666666,
              "#ed7953"
             ],
             [
              0.7777777777777778,
              "#fb9f3a"
             ],
             [
              0.8888888888888888,
              "#fdca26"
             ],
             [
              1,
              "#f0f921"
             ]
            ],
            "type": "histogram2d"
           }
          ],
          "histogram2dcontour": [
           {
            "colorbar": {
             "outlinewidth": 0,
             "ticks": ""
            },
            "colorscale": [
             [
              0,
              "#0d0887"
             ],
             [
              0.1111111111111111,
              "#46039f"
             ],
             [
              0.2222222222222222,
              "#7201a8"
             ],
             [
              0.3333333333333333,
              "#9c179e"
             ],
             [
              0.4444444444444444,
              "#bd3786"
             ],
             [
              0.5555555555555556,
              "#d8576b"
             ],
             [
              0.6666666666666666,
              "#ed7953"
             ],
             [
              0.7777777777777778,
              "#fb9f3a"
             ],
             [
              0.8888888888888888,
              "#fdca26"
             ],
             [
              1,
              "#f0f921"
             ]
            ],
            "type": "histogram2dcontour"
           }
          ],
          "mesh3d": [
           {
            "colorbar": {
             "outlinewidth": 0,
             "ticks": ""
            },
            "type": "mesh3d"
           }
          ],
          "parcoords": [
           {
            "line": {
             "colorbar": {
              "outlinewidth": 0,
              "ticks": ""
             }
            },
            "type": "parcoords"
           }
          ],
          "pie": [
           {
            "automargin": true,
            "type": "pie"
           }
          ],
          "scatter": [
           {
            "marker": {
             "colorbar": {
              "outlinewidth": 0,
              "ticks": ""
             }
            },
            "type": "scatter"
           }
          ],
          "scatter3d": [
           {
            "line": {
             "colorbar": {
              "outlinewidth": 0,
              "ticks": ""
             }
            },
            "marker": {
             "colorbar": {
              "outlinewidth": 0,
              "ticks": ""
             }
            },
            "type": "scatter3d"
           }
          ],
          "scattercarpet": [
           {
            "marker": {
             "colorbar": {
              "outlinewidth": 0,
              "ticks": ""
             }
            },
            "type": "scattercarpet"
           }
          ],
          "scattergeo": [
           {
            "marker": {
             "colorbar": {
              "outlinewidth": 0,
              "ticks": ""
             }
            },
            "type": "scattergeo"
           }
          ],
          "scattergl": [
           {
            "marker": {
             "colorbar": {
              "outlinewidth": 0,
              "ticks": ""
             }
            },
            "type": "scattergl"
           }
          ],
          "scattermapbox": [
           {
            "marker": {
             "colorbar": {
              "outlinewidth": 0,
              "ticks": ""
             }
            },
            "type": "scattermapbox"
           }
          ],
          "scatterpolar": [
           {
            "marker": {
             "colorbar": {
              "outlinewidth": 0,
              "ticks": ""
             }
            },
            "type": "scatterpolar"
           }
          ],
          "scatterpolargl": [
           {
            "marker": {
             "colorbar": {
              "outlinewidth": 0,
              "ticks": ""
             }
            },
            "type": "scatterpolargl"
           }
          ],
          "scatterternary": [
           {
            "marker": {
             "colorbar": {
              "outlinewidth": 0,
              "ticks": ""
             }
            },
            "type": "scatterternary"
           }
          ],
          "surface": [
           {
            "colorbar": {
             "outlinewidth": 0,
             "ticks": ""
            },
            "colorscale": [
             [
              0,
              "#0d0887"
             ],
             [
              0.1111111111111111,
              "#46039f"
             ],
             [
              0.2222222222222222,
              "#7201a8"
             ],
             [
              0.3333333333333333,
              "#9c179e"
             ],
             [
              0.4444444444444444,
              "#bd3786"
             ],
             [
              0.5555555555555556,
              "#d8576b"
             ],
             [
              0.6666666666666666,
              "#ed7953"
             ],
             [
              0.7777777777777778,
              "#fb9f3a"
             ],
             [
              0.8888888888888888,
              "#fdca26"
             ],
             [
              1,
              "#f0f921"
             ]
            ],
            "type": "surface"
           }
          ],
          "table": [
           {
            "cells": {
             "fill": {
              "color": "#EBF0F8"
             },
             "line": {
              "color": "white"
             }
            },
            "header": {
             "fill": {
              "color": "#C8D4E3"
             },
             "line": {
              "color": "white"
             }
            },
            "type": "table"
           }
          ]
         },
         "layout": {
          "annotationdefaults": {
           "arrowcolor": "#2a3f5f",
           "arrowhead": 0,
           "arrowwidth": 1
          },
          "coloraxis": {
           "colorbar": {
            "outlinewidth": 0,
            "ticks": ""
           }
          },
          "colorscale": {
           "diverging": [
            [
             0,
             "#8e0152"
            ],
            [
             0.1,
             "#c51b7d"
            ],
            [
             0.2,
             "#de77ae"
            ],
            [
             0.3,
             "#f1b6da"
            ],
            [
             0.4,
             "#fde0ef"
            ],
            [
             0.5,
             "#f7f7f7"
            ],
            [
             0.6,
             "#e6f5d0"
            ],
            [
             0.7,
             "#b8e186"
            ],
            [
             0.8,
             "#7fbc41"
            ],
            [
             0.9,
             "#4d9221"
            ],
            [
             1,
             "#276419"
            ]
           ],
           "sequential": [
            [
             0,
             "#0d0887"
            ],
            [
             0.1111111111111111,
             "#46039f"
            ],
            [
             0.2222222222222222,
             "#7201a8"
            ],
            [
             0.3333333333333333,
             "#9c179e"
            ],
            [
             0.4444444444444444,
             "#bd3786"
            ],
            [
             0.5555555555555556,
             "#d8576b"
            ],
            [
             0.6666666666666666,
             "#ed7953"
            ],
            [
             0.7777777777777778,
             "#fb9f3a"
            ],
            [
             0.8888888888888888,
             "#fdca26"
            ],
            [
             1,
             "#f0f921"
            ]
           ],
           "sequentialminus": [
            [
             0,
             "#0d0887"
            ],
            [
             0.1111111111111111,
             "#46039f"
            ],
            [
             0.2222222222222222,
             "#7201a8"
            ],
            [
             0.3333333333333333,
             "#9c179e"
            ],
            [
             0.4444444444444444,
             "#bd3786"
            ],
            [
             0.5555555555555556,
             "#d8576b"
            ],
            [
             0.6666666666666666,
             "#ed7953"
            ],
            [
             0.7777777777777778,
             "#fb9f3a"
            ],
            [
             0.8888888888888888,
             "#fdca26"
            ],
            [
             1,
             "#f0f921"
            ]
           ]
          },
          "colorway": [
           "#636efa",
           "#EF553B",
           "#00cc96",
           "#ab63fa",
           "#FFA15A",
           "#19d3f3",
           "#FF6692",
           "#B6E880",
           "#FF97FF",
           "#FECB52"
          ],
          "font": {
           "color": "#2a3f5f"
          },
          "geo": {
           "bgcolor": "white",
           "lakecolor": "white",
           "landcolor": "#E5ECF6",
           "showlakes": true,
           "showland": true,
           "subunitcolor": "white"
          },
          "hoverlabel": {
           "align": "left"
          },
          "hovermode": "closest",
          "mapbox": {
           "style": "light"
          },
          "paper_bgcolor": "white",
          "plot_bgcolor": "#E5ECF6",
          "polar": {
           "angularaxis": {
            "gridcolor": "white",
            "linecolor": "white",
            "ticks": ""
           },
           "bgcolor": "#E5ECF6",
           "radialaxis": {
            "gridcolor": "white",
            "linecolor": "white",
            "ticks": ""
           }
          },
          "scene": {
           "xaxis": {
            "backgroundcolor": "#E5ECF6",
            "gridcolor": "white",
            "gridwidth": 2,
            "linecolor": "white",
            "showbackground": true,
            "ticks": "",
            "zerolinecolor": "white"
           },
           "yaxis": {
            "backgroundcolor": "#E5ECF6",
            "gridcolor": "white",
            "gridwidth": 2,
            "linecolor": "white",
            "showbackground": true,
            "ticks": "",
            "zerolinecolor": "white"
           },
           "zaxis": {
            "backgroundcolor": "#E5ECF6",
            "gridcolor": "white",
            "gridwidth": 2,
            "linecolor": "white",
            "showbackground": true,
            "ticks": "",
            "zerolinecolor": "white"
           }
          },
          "shapedefaults": {
           "line": {
            "color": "#2a3f5f"
           }
          },
          "ternary": {
           "aaxis": {
            "gridcolor": "white",
            "linecolor": "white",
            "ticks": ""
           },
           "baxis": {
            "gridcolor": "white",
            "linecolor": "white",
            "ticks": ""
           },
           "bgcolor": "#E5ECF6",
           "caxis": {
            "gridcolor": "white",
            "linecolor": "white",
            "ticks": ""
           }
          },
          "title": {
           "x": 0.05
          },
          "xaxis": {
           "automargin": true,
           "gridcolor": "white",
           "linecolor": "white",
           "ticks": "",
           "title": {
            "standoff": 15
           },
           "zerolinecolor": "white",
           "zerolinewidth": 2
          },
          "yaxis": {
           "automargin": true,
           "gridcolor": "white",
           "linecolor": "white",
           "ticks": "",
           "title": {
            "standoff": 15
           },
           "zerolinecolor": "white",
           "zerolinewidth": 2
          }
         }
        },
        "title": {
         "text": "State Rankings"
        }
       }
      },
      "text/html": [
       "<div>                            <div id=\"b7a96e3c-7edc-4808-af3a-9211ca1b92c2\" class=\"plotly-graph-div\" style=\"height:525px; width:100%;\"></div>            <script type=\"text/javascript\">                require([\"plotly\"], function(Plotly) {                    window.PLOTLYENV=window.PLOTLYENV || {};                                    if (document.getElementById(\"b7a96e3c-7edc-4808-af3a-9211ca1b92c2\")) {                    Plotly.newPlot(                        \"b7a96e3c-7edc-4808-af3a-9211ca1b92c2\",                        [{\"coloraxis\": \"coloraxis\", \"geo\": \"geo\", \"hovertemplate\": \"<b>%{hovertext}</b><br><br>bikeshop.state=%{location}<br>Average_Sale=%{z}<extra></extra>\", \"hovertext\": [\"KS\", \"CO\", \"NY\", \"AZ\", \"MI\", \"FL\", \"OK\", \"LA\", \"TX\", \"CA\", \"MN\", \"OH\", \"OR\", \"PA\", \"NV\", \"KY\", \"RI\", \"TN\", \"WA\", \"IN\", \"NM\"], \"locationmode\": \"USA-states\", \"locations\": [\"KS\", \"CO\", \"NY\", \"AZ\", \"MI\", \"FL\", \"OK\", \"LA\", \"TX\", \"CA\", \"MN\", \"OH\", \"OR\", \"PA\", \"NV\", \"KY\", \"RI\", \"TN\", \"WA\", \"IN\", \"NM\"], \"name\": \"\", \"type\": \"choropleth\", \"z\": [29311.294155427102, 24224.84175458079, 31452.74750575595, 22313.0985267035, 48527.51199040767, 18165.639777468707, 31650.28344671202, 24165.846047156727, 20187.649325626204, 36458.72693726937, 21782.8373015873, 47885.707070707074, 17604.282828282827, 48415.543710021324, 55801.77659574468, 21017.23926380368, 16088.248847926267, 18868.859649122805, 7504.12037037037, 40732.316017316014, 78485.2657004831]}],                        {\"coloraxis\": {\"colorbar\": {\"title\": {\"text\": \"Average_Sale\"}}, \"colorscale\": [[0.0, \"gray\"], [1.0, \"green\"]]}, \"geo\": {\"center\": {}, \"domain\": {\"x\": [0.0, 1.0], \"y\": [0.0, 1.0]}, \"scope\": \"usa\"}, \"legend\": {\"tracegroupgap\": 0}, \"margin\": {\"t\": 60}, \"template\": {\"data\": {\"bar\": [{\"error_x\": {\"color\": \"#2a3f5f\"}, \"error_y\": {\"color\": \"#2a3f5f\"}, \"marker\": {\"line\": {\"color\": \"#E5ECF6\", \"width\": 0.5}}, \"type\": \"bar\"}], \"barpolar\": [{\"marker\": {\"line\": {\"color\": \"#E5ECF6\", \"width\": 0.5}}, \"type\": \"barpolar\"}], \"carpet\": [{\"aaxis\": {\"endlinecolor\": \"#2a3f5f\", \"gridcolor\": \"white\", \"linecolor\": \"white\", \"minorgridcolor\": \"white\", \"startlinecolor\": \"#2a3f5f\"}, \"baxis\": {\"endlinecolor\": \"#2a3f5f\", \"gridcolor\": \"white\", \"linecolor\": \"white\", \"minorgridcolor\": \"white\", \"startlinecolor\": \"#2a3f5f\"}, \"type\": \"carpet\"}], \"choropleth\": [{\"colorbar\": {\"outlinewidth\": 0, \"ticks\": \"\"}, \"type\": \"choropleth\"}], \"contour\": [{\"colorbar\": {\"outlinewidth\": 0, \"ticks\": \"\"}, \"colorscale\": [[0.0, \"#0d0887\"], [0.1111111111111111, \"#46039f\"], [0.2222222222222222, \"#7201a8\"], [0.3333333333333333, \"#9c179e\"], [0.4444444444444444, \"#bd3786\"], [0.5555555555555556, \"#d8576b\"], [0.6666666666666666, \"#ed7953\"], [0.7777777777777778, \"#fb9f3a\"], [0.8888888888888888, \"#fdca26\"], [1.0, \"#f0f921\"]], \"type\": \"contour\"}], \"contourcarpet\": [{\"colorbar\": {\"outlinewidth\": 0, \"ticks\": \"\"}, \"type\": \"contourcarpet\"}], \"heatmap\": [{\"colorbar\": {\"outlinewidth\": 0, \"ticks\": \"\"}, \"colorscale\": [[0.0, \"#0d0887\"], [0.1111111111111111, \"#46039f\"], [0.2222222222222222, \"#7201a8\"], [0.3333333333333333, \"#9c179e\"], [0.4444444444444444, \"#bd3786\"], [0.5555555555555556, \"#d8576b\"], [0.6666666666666666, \"#ed7953\"], [0.7777777777777778, \"#fb9f3a\"], [0.8888888888888888, \"#fdca26\"], [1.0, \"#f0f921\"]], \"type\": \"heatmap\"}], \"heatmapgl\": [{\"colorbar\": {\"outlinewidth\": 0, \"ticks\": \"\"}, \"colorscale\": [[0.0, \"#0d0887\"], [0.1111111111111111, \"#46039f\"], [0.2222222222222222, \"#7201a8\"], [0.3333333333333333, \"#9c179e\"], [0.4444444444444444, \"#bd3786\"], [0.5555555555555556, \"#d8576b\"], [0.6666666666666666, \"#ed7953\"], [0.7777777777777778, \"#fb9f3a\"], [0.8888888888888888, \"#fdca26\"], [1.0, \"#f0f921\"]], \"type\": \"heatmapgl\"}], \"histogram\": [{\"marker\": {\"colorbar\": {\"outlinewidth\": 0, \"ticks\": \"\"}}, \"type\": \"histogram\"}], \"histogram2d\": [{\"colorbar\": {\"outlinewidth\": 0, \"ticks\": \"\"}, \"colorscale\": [[0.0, \"#0d0887\"], [0.1111111111111111, \"#46039f\"], [0.2222222222222222, \"#7201a8\"], [0.3333333333333333, \"#9c179e\"], [0.4444444444444444, \"#bd3786\"], [0.5555555555555556, \"#d8576b\"], [0.6666666666666666, \"#ed7953\"], [0.7777777777777778, \"#fb9f3a\"], [0.8888888888888888, \"#fdca26\"], [1.0, \"#f0f921\"]], \"type\": \"histogram2d\"}], \"histogram2dcontour\": [{\"colorbar\": {\"outlinewidth\": 0, \"ticks\": \"\"}, \"colorscale\": [[0.0, \"#0d0887\"], [0.1111111111111111, \"#46039f\"], [0.2222222222222222, \"#7201a8\"], [0.3333333333333333, \"#9c179e\"], [0.4444444444444444, \"#bd3786\"], [0.5555555555555556, \"#d8576b\"], [0.6666666666666666, \"#ed7953\"], [0.7777777777777778, \"#fb9f3a\"], [0.8888888888888888, \"#fdca26\"], [1.0, \"#f0f921\"]], \"type\": \"histogram2dcontour\"}], \"mesh3d\": [{\"colorbar\": {\"outlinewidth\": 0, \"ticks\": \"\"}, \"type\": \"mesh3d\"}], \"parcoords\": [{\"line\": {\"colorbar\": {\"outlinewidth\": 0, \"ticks\": \"\"}}, \"type\": \"parcoords\"}], \"pie\": [{\"automargin\": true, \"type\": \"pie\"}], \"scatter\": [{\"marker\": {\"colorbar\": {\"outlinewidth\": 0, \"ticks\": \"\"}}, \"type\": \"scatter\"}], \"scatter3d\": [{\"line\": {\"colorbar\": {\"outlinewidth\": 0, \"ticks\": \"\"}}, \"marker\": {\"colorbar\": {\"outlinewidth\": 0, \"ticks\": \"\"}}, \"type\": \"scatter3d\"}], \"scattercarpet\": [{\"marker\": {\"colorbar\": {\"outlinewidth\": 0, \"ticks\": \"\"}}, \"type\": \"scattercarpet\"}], \"scattergeo\": [{\"marker\": {\"colorbar\": {\"outlinewidth\": 0, \"ticks\": \"\"}}, \"type\": \"scattergeo\"}], \"scattergl\": [{\"marker\": {\"colorbar\": {\"outlinewidth\": 0, \"ticks\": \"\"}}, \"type\": \"scattergl\"}], \"scattermapbox\": [{\"marker\": {\"colorbar\": {\"outlinewidth\": 0, \"ticks\": \"\"}}, \"type\": \"scattermapbox\"}], \"scatterpolar\": [{\"marker\": {\"colorbar\": {\"outlinewidth\": 0, \"ticks\": \"\"}}, \"type\": \"scatterpolar\"}], \"scatterpolargl\": [{\"marker\": {\"colorbar\": {\"outlinewidth\": 0, \"ticks\": \"\"}}, \"type\": \"scatterpolargl\"}], \"scatterternary\": [{\"marker\": {\"colorbar\": {\"outlinewidth\": 0, \"ticks\": \"\"}}, \"type\": \"scatterternary\"}], \"surface\": [{\"colorbar\": {\"outlinewidth\": 0, \"ticks\": \"\"}, \"colorscale\": [[0.0, \"#0d0887\"], [0.1111111111111111, \"#46039f\"], [0.2222222222222222, \"#7201a8\"], [0.3333333333333333, \"#9c179e\"], [0.4444444444444444, \"#bd3786\"], [0.5555555555555556, \"#d8576b\"], [0.6666666666666666, \"#ed7953\"], [0.7777777777777778, \"#fb9f3a\"], [0.8888888888888888, \"#fdca26\"], [1.0, \"#f0f921\"]], \"type\": \"surface\"}], \"table\": [{\"cells\": {\"fill\": {\"color\": \"#EBF0F8\"}, \"line\": {\"color\": \"white\"}}, \"header\": {\"fill\": {\"color\": \"#C8D4E3\"}, \"line\": {\"color\": \"white\"}}, \"type\": \"table\"}]}, \"layout\": {\"annotationdefaults\": {\"arrowcolor\": \"#2a3f5f\", \"arrowhead\": 0, \"arrowwidth\": 1}, \"coloraxis\": {\"colorbar\": {\"outlinewidth\": 0, \"ticks\": \"\"}}, \"colorscale\": {\"diverging\": [[0, \"#8e0152\"], [0.1, \"#c51b7d\"], [0.2, \"#de77ae\"], [0.3, \"#f1b6da\"], [0.4, \"#fde0ef\"], [0.5, \"#f7f7f7\"], [0.6, \"#e6f5d0\"], [0.7, \"#b8e186\"], [0.8, \"#7fbc41\"], [0.9, \"#4d9221\"], [1, \"#276419\"]], \"sequential\": [[0.0, \"#0d0887\"], [0.1111111111111111, \"#46039f\"], [0.2222222222222222, \"#7201a8\"], [0.3333333333333333, \"#9c179e\"], [0.4444444444444444, \"#bd3786\"], [0.5555555555555556, \"#d8576b\"], [0.6666666666666666, \"#ed7953\"], [0.7777777777777778, \"#fb9f3a\"], [0.8888888888888888, \"#fdca26\"], [1.0, \"#f0f921\"]], \"sequentialminus\": [[0.0, \"#0d0887\"], [0.1111111111111111, \"#46039f\"], [0.2222222222222222, \"#7201a8\"], [0.3333333333333333, \"#9c179e\"], [0.4444444444444444, \"#bd3786\"], [0.5555555555555556, \"#d8576b\"], [0.6666666666666666, \"#ed7953\"], [0.7777777777777778, \"#fb9f3a\"], [0.8888888888888888, \"#fdca26\"], [1.0, \"#f0f921\"]]}, \"colorway\": [\"#636efa\", \"#EF553B\", \"#00cc96\", \"#ab63fa\", \"#FFA15A\", \"#19d3f3\", \"#FF6692\", \"#B6E880\", \"#FF97FF\", \"#FECB52\"], \"font\": {\"color\": \"#2a3f5f\"}, \"geo\": {\"bgcolor\": \"white\", \"lakecolor\": \"white\", \"landcolor\": \"#E5ECF6\", \"showlakes\": true, \"showland\": true, \"subunitcolor\": \"white\"}, \"hoverlabel\": {\"align\": \"left\"}, \"hovermode\": \"closest\", \"mapbox\": {\"style\": \"light\"}, \"paper_bgcolor\": \"white\", \"plot_bgcolor\": \"#E5ECF6\", \"polar\": {\"angularaxis\": {\"gridcolor\": \"white\", \"linecolor\": \"white\", \"ticks\": \"\"}, \"bgcolor\": \"#E5ECF6\", \"radialaxis\": {\"gridcolor\": \"white\", \"linecolor\": \"white\", \"ticks\": \"\"}}, \"scene\": {\"xaxis\": {\"backgroundcolor\": \"#E5ECF6\", \"gridcolor\": \"white\", \"gridwidth\": 2, \"linecolor\": \"white\", \"showbackground\": true, \"ticks\": \"\", \"zerolinecolor\": \"white\"}, \"yaxis\": {\"backgroundcolor\": \"#E5ECF6\", \"gridcolor\": \"white\", \"gridwidth\": 2, \"linecolor\": \"white\", \"showbackground\": true, \"ticks\": \"\", \"zerolinecolor\": \"white\"}, \"zaxis\": {\"backgroundcolor\": \"#E5ECF6\", \"gridcolor\": \"white\", \"gridwidth\": 2, \"linecolor\": \"white\", \"showbackground\": true, \"ticks\": \"\", \"zerolinecolor\": \"white\"}}, \"shapedefaults\": {\"line\": {\"color\": \"#2a3f5f\"}}, \"ternary\": {\"aaxis\": {\"gridcolor\": \"white\", \"linecolor\": \"white\", \"ticks\": \"\"}, \"baxis\": {\"gridcolor\": \"white\", \"linecolor\": \"white\", \"ticks\": \"\"}, \"bgcolor\": \"#E5ECF6\", \"caxis\": {\"gridcolor\": \"white\", \"linecolor\": \"white\", \"ticks\": \"\"}}, \"title\": {\"x\": 0.05}, \"xaxis\": {\"automargin\": true, \"gridcolor\": \"white\", \"linecolor\": \"white\", \"ticks\": \"\", \"title\": {\"standoff\": 15}, \"zerolinecolor\": \"white\", \"zerolinewidth\": 2}, \"yaxis\": {\"automargin\": true, \"gridcolor\": \"white\", \"linecolor\": \"white\", \"ticks\": \"\", \"title\": {\"standoff\": 15}, \"zerolinecolor\": \"white\", \"zerolinewidth\": 2}}}, \"title\": {\"text\": \"State Rankings\"}},                        {\"responsive\": true}                    ).then(function(){\n",
       "                            \n",
       "var gd = document.getElementById('b7a96e3c-7edc-4808-af3a-9211ca1b92c2');\n",
       "var x = new MutationObserver(function (mutations, observer) {{\n",
       "        var display = window.getComputedStyle(gd).display;\n",
       "        if (!display || display === 'none') {{\n",
       "            console.log([gd, 'removed!']);\n",
       "            Plotly.purge(gd);\n",
       "            observer.disconnect();\n",
       "        }}\n",
       "}});\n",
       "\n",
       "// Listen for the removal of the full notebook cells\n",
       "var notebookContainer = gd.closest('#notebook-container');\n",
       "if (notebookContainer) {{\n",
       "    x.observe(notebookContainer, {childList: true});\n",
       "}}\n",
       "\n",
       "// Listen for the clearing of the current output cell\n",
       "var outputEl = gd.closest('.output');\n",
       "if (outputEl) {{\n",
       "    x.observe(outputEl, {childList: true});\n",
       "}}\n",
       "\n",
       "                        })                };                });            </script>        </div>"
      ]
     },
     "metadata": {},
     "output_type": "display_data"
    }
   ],
   "source": [
    "fig = px.choropleth(state_df,  # Input Pandas DataFrame\n",
    "                    locations=\"bikeshop.state\",  # DataFrame column with locations\n",
    "                    color=\"Average_Sale\",  # DataFrame column with color values\n",
    "                    hover_name=\"bikeshop.state\", # DataFrame column hover info\n",
    "                    locationmode = 'USA-states', color_continuous_scale=[\"gray\", \"green\"])# Set to plot as US States\n",
    "\n",
    "fig.update_layout(\n",
    "    title_text = 'State Rankings', # Create a Title\n",
    "    geo_scope='usa',  # Plot only the USA instead of globe\n",
    ")\n",
    "fig.show()  # Output the plot to the screen"
   ]
  },
  {
   "cell_type": "code",
   "execution_count": 87,
   "metadata": {},
   "outputs": [
    {
     "name": "stdout",
     "output_type": "stream",
     "text": [
      "The client sells 49% road bikes and 51% mountain bikes\n"
     ]
    }
   ],
   "source": [
    "# review the percent of mountain bike sales versus road bike sales\n",
    "road_df = bike_data[bike_data['category.primary'] == 'Road']\n",
    "mtn_df = bike_data[bike_data['category.primary'] == 'Mountain']\n",
    "print('The client sells {:.0%} road bikes and {:.0%} mountain bikes'.format((len(road_df)/len(bike_data)),(len(mtn_df)/len(bike_data))))"
   ]
  },
  {
   "cell_type": "code",
   "execution_count": 89,
   "metadata": {},
   "outputs": [
    {
     "data": {
      "text/html": [
       "<div>\n",
       "<style scoped>\n",
       "    .dataframe tbody tr th:only-of-type {\n",
       "        vertical-align: middle;\n",
       "    }\n",
       "\n",
       "    .dataframe tbody tr th {\n",
       "        vertical-align: top;\n",
       "    }\n",
       "\n",
       "    .dataframe thead th {\n",
       "        text-align: right;\n",
       "    }\n",
       "</style>\n",
       "<table border=\"1\" class=\"dataframe\">\n",
       "  <thead>\n",
       "    <tr style=\"text-align: right;\">\n",
       "      <th></th>\n",
       "      <th>Total_Sold</th>\n",
       "      <th>Average_Price</th>\n",
       "      <th>Percent_Sold</th>\n",
       "    </tr>\n",
       "    <tr>\n",
       "      <th>Road_2nd_Categ</th>\n",
       "      <th></th>\n",
       "      <th></th>\n",
       "      <th></th>\n",
       "    </tr>\n",
       "  </thead>\n",
       "  <tbody>\n",
       "    <tr>\n",
       "      <th>Cyclocross</th>\n",
       "      <td>668</td>\n",
       "      <td>$2,338.71</td>\n",
       "      <td>9%</td>\n",
       "    </tr>\n",
       "    <tr>\n",
       "      <th>Elite Road</th>\n",
       "      <td>3472</td>\n",
       "      <td>$3,433.27</td>\n",
       "      <td>46%</td>\n",
       "    </tr>\n",
       "    <tr>\n",
       "      <th>Endurance Road</th>\n",
       "      <td>2586</td>\n",
       "      <td>$3,080.09</td>\n",
       "      <td>34%</td>\n",
       "    </tr>\n",
       "    <tr>\n",
       "      <th>Triathalon</th>\n",
       "      <td>867</td>\n",
       "      <td>$3,526.59</td>\n",
       "      <td>11%</td>\n",
       "    </tr>\n",
       "  </tbody>\n",
       "</table>\n",
       "</div>"
      ],
      "text/plain": [
       "                Total_Sold Average_Price Percent_Sold\n",
       "Road_2nd_Categ                                       \n",
       "Cyclocross             668     $2,338.71           9%\n",
       "Elite Road            3472     $3,433.27          46%\n",
       "Endurance Road        2586     $3,080.09          34%\n",
       "Triathalon             867     $3,526.59          11%"
      ]
     },
     "execution_count": 89,
     "metadata": {},
     "output_type": "execute_result"
    }
   ],
   "source": [
    "# review the metrics on road bikes sold by the company\n",
    "road_sec_df = pd.DataFrame(road_df.groupby('category.secondary')['order.date'].count())\n",
    "road_sec_df.columns = ['Total_Sold']\n",
    "road_sec_df['Average_Price'] = road_df.groupby('category.secondary')['price'].mean().map('${:,.2f}'.format)\n",
    "road_sec_df['Percent_Sold'] = (road_sec_df['Total_Sold']/len(road_df)).map('{:.0%}'.format)\n",
    "road_sec_df = road_sec_df.reset_index()\n",
    "road_sec_df = road_sec_df.rename(columns = {'category.secondary':'Road_2nd_Categ'}).set_index('Road_2nd_Categ')\n",
    "road_sec_df"
   ]
  },
  {
   "cell_type": "code",
   "execution_count": 91,
   "metadata": {},
   "outputs": [
    {
     "data": {
      "text/html": [
       "<div>\n",
       "<style scoped>\n",
       "    .dataframe tbody tr th:only-of-type {\n",
       "        vertical-align: middle;\n",
       "    }\n",
       "\n",
       "    .dataframe tbody tr th {\n",
       "        vertical-align: top;\n",
       "    }\n",
       "\n",
       "    .dataframe thead th {\n",
       "        text-align: right;\n",
       "    }\n",
       "</style>\n",
       "<table border=\"1\" class=\"dataframe\">\n",
       "  <thead>\n",
       "    <tr style=\"text-align: right;\">\n",
       "      <th></th>\n",
       "      <th>Total_Sold</th>\n",
       "      <th>Average_Price</th>\n",
       "      <th>Percent_Sold</th>\n",
       "    </tr>\n",
       "    <tr>\n",
       "      <th>Mountain_2nd_Categ</th>\n",
       "      <th></th>\n",
       "      <th></th>\n",
       "      <th></th>\n",
       "    </tr>\n",
       "  </thead>\n",
       "  <tbody>\n",
       "    <tr>\n",
       "      <th>Cross Country Race</th>\n",
       "      <td>2852</td>\n",
       "      <td>$5,266.57</td>\n",
       "      <td>35%</td>\n",
       "    </tr>\n",
       "    <tr>\n",
       "      <th>Fat Bike</th>\n",
       "      <td>294</td>\n",
       "      <td>$2,766.73</td>\n",
       "      <td>4%</td>\n",
       "    </tr>\n",
       "    <tr>\n",
       "      <th>Over Mountain</th>\n",
       "      <td>1169</td>\n",
       "      <td>$5,004.65</td>\n",
       "      <td>15%</td>\n",
       "    </tr>\n",
       "    <tr>\n",
       "      <th>Sport</th>\n",
       "      <td>1716</td>\n",
       "      <td>$893.61</td>\n",
       "      <td>21%</td>\n",
       "    </tr>\n",
       "    <tr>\n",
       "      <th>Trail</th>\n",
       "      <td>2020</td>\n",
       "      <td>$3,644.30</td>\n",
       "      <td>25%</td>\n",
       "    </tr>\n",
       "  </tbody>\n",
       "</table>\n",
       "</div>"
      ],
      "text/plain": [
       "                    Total_Sold Average_Price Percent_Sold\n",
       "Mountain_2nd_Categ                                       \n",
       "Cross Country Race        2852     $5,266.57          35%\n",
       "Fat Bike                   294     $2,766.73           4%\n",
       "Over Mountain             1169     $5,004.65          15%\n",
       "Sport                     1716       $893.61          21%\n",
       "Trail                     2020     $3,644.30          25%"
      ]
     },
     "execution_count": 91,
     "metadata": {},
     "output_type": "execute_result"
    }
   ],
   "source": [
    "# review the metrics on mountain bikes sold by the company\n",
    "mtn_sec_df = pd.DataFrame(mtn_df.groupby('category.secondary')['order.date'].count())\n",
    "mtn_sec_df.columns = ['Total_Sold']\n",
    "mtn_sec_df['Average_Price'] = mtn_df.groupby('category.secondary')['price'].mean().map('${:,.2f}'.format)\n",
    "mtn_sec_df['Percent_Sold'] = (mtn_sec_df['Total_Sold']/len(mtn_df)).map('{:.0%}'.format)\n",
    "mtn_sec_df = mtn_sec_df.reset_index()\n",
    "mtn_sec_df = mtn_sec_df.rename(columns = {'category.secondary':'Mountain_2nd_Categ'}).set_index('Mountain_2nd_Categ')\n",
    "mtn_sec_df"
   ]
  },
  {
   "cell_type": "code",
   "execution_count": 92,
   "metadata": {},
   "outputs": [
    {
     "name": "stdout",
     "output_type": "stream",
     "text": [
      "The client sells 53% carbon framed bikes and 47% aluminum framed bikes\n"
     ]
    }
   ],
   "source": [
    "# review the metrics on road bikes sold by the company\n",
    "carbon_df = bike_data[bike_data['frame'] == 'Carbon']\n",
    "alum_df = bike_data[bike_data['frame'] == 'Aluminum']\n",
    "print('The client sells {:.0%} carbon framed bikes and {:.0%} aluminum framed bikes'.format((len(carbon_df)/len(bike_data)),(len(alum_df)/len(bike_data))))"
   ]
  },
  {
   "cell_type": "code",
   "execution_count": 93,
   "metadata": {},
   "outputs": [
    {
     "data": {
      "text/html": [
       "<div>\n",
       "<style scoped>\n",
       "    .dataframe tbody tr th:only-of-type {\n",
       "        vertical-align: middle;\n",
       "    }\n",
       "\n",
       "    .dataframe tbody tr th {\n",
       "        vertical-align: top;\n",
       "    }\n",
       "\n",
       "    .dataframe thead th {\n",
       "        text-align: right;\n",
       "    }\n",
       "</style>\n",
       "<table border=\"1\" class=\"dataframe\">\n",
       "  <thead>\n",
       "    <tr style=\"text-align: right;\">\n",
       "      <th></th>\n",
       "      <th>Total_Sold</th>\n",
       "      <th>Average_Price</th>\n",
       "      <th>Percent_Sold</th>\n",
       "    </tr>\n",
       "    <tr>\n",
       "      <th>Road_Frame</th>\n",
       "      <th></th>\n",
       "      <th></th>\n",
       "      <th></th>\n",
       "    </tr>\n",
       "  </thead>\n",
       "  <tbody>\n",
       "    <tr>\n",
       "      <th>Aluminum</th>\n",
       "      <td>2895</td>\n",
       "      <td>$1,948.16</td>\n",
       "      <td>38%</td>\n",
       "    </tr>\n",
       "    <tr>\n",
       "      <th>Carbon</th>\n",
       "      <td>4698</td>\n",
       "      <td>$4,015.60</td>\n",
       "      <td>62%</td>\n",
       "    </tr>\n",
       "  </tbody>\n",
       "</table>\n",
       "</div>"
      ],
      "text/plain": [
       "            Total_Sold Average_Price Percent_Sold\n",
       "Road_Frame                                       \n",
       "Aluminum          2895     $1,948.16          38%\n",
       "Carbon            4698     $4,015.60          62%"
      ]
     },
     "execution_count": 93,
     "metadata": {},
     "output_type": "execute_result"
    }
   ],
   "source": [
    "# review the metrics on the different frames for road bikes sold by the company\n",
    "road_frame_df = pd.DataFrame(road_df.groupby('frame')['order.date'].count())\n",
    "road_frame_df.columns = ['Total_Sold']\n",
    "road_frame_df['Average_Price'] = road_df.groupby('frame')['price'].mean().map('${:,.2f}'.format)\n",
    "road_frame_df['Percent_Sold'] = (road_frame_df['Total_Sold']/len(road_df)).map('{:.0%}'.format)\n",
    "road_frame_df = road_frame_df.reset_index()\n",
    "road_frame_df = road_frame_df.rename(columns = {'frame':'Road_Frame'}).set_index('Road_Frame')\n",
    "road_frame_df"
   ]
  },
  {
   "cell_type": "code",
   "execution_count": 94,
   "metadata": {},
   "outputs": [
    {
     "data": {
      "text/html": [
       "<div>\n",
       "<style scoped>\n",
       "    .dataframe tbody tr th:only-of-type {\n",
       "        vertical-align: middle;\n",
       "    }\n",
       "\n",
       "    .dataframe tbody tr th {\n",
       "        vertical-align: top;\n",
       "    }\n",
       "\n",
       "    .dataframe thead th {\n",
       "        text-align: right;\n",
       "    }\n",
       "</style>\n",
       "<table border=\"1\" class=\"dataframe\">\n",
       "  <thead>\n",
       "    <tr style=\"text-align: right;\">\n",
       "      <th></th>\n",
       "      <th>Total_Sold</th>\n",
       "      <th>Average_Price</th>\n",
       "      <th>Percent_Sold</th>\n",
       "    </tr>\n",
       "    <tr>\n",
       "      <th>Mtn_Frame</th>\n",
       "      <th></th>\n",
       "      <th></th>\n",
       "      <th></th>\n",
       "    </tr>\n",
       "  </thead>\n",
       "  <tbody>\n",
       "    <tr>\n",
       "      <th>Aluminum</th>\n",
       "      <td>4445</td>\n",
       "      <td>$1,898.55</td>\n",
       "      <td>55%</td>\n",
       "    </tr>\n",
       "    <tr>\n",
       "      <th>Carbon</th>\n",
       "      <td>3606</td>\n",
       "      <td>$6,139.76</td>\n",
       "      <td>45%</td>\n",
       "    </tr>\n",
       "  </tbody>\n",
       "</table>\n",
       "</div>"
      ],
      "text/plain": [
       "           Total_Sold Average_Price Percent_Sold\n",
       "Mtn_Frame                                       \n",
       "Aluminum         4445     $1,898.55          55%\n",
       "Carbon           3606     $6,139.76          45%"
      ]
     },
     "execution_count": 94,
     "metadata": {},
     "output_type": "execute_result"
    }
   ],
   "source": [
    "# review the metrics on the different frames for mountain bikes sold by the company\n",
    "mtn_frame_df = pd.DataFrame(mtn_df.groupby('frame')['order.date'].count())\n",
    "mtn_frame_df.columns = ['Total_Sold']\n",
    "mtn_frame_df['Average_Price'] = mtn_df.groupby('frame')['price'].mean().map('${:,.2f}'.format)\n",
    "mtn_frame_df['Percent_Sold'] = (mtn_frame_df['Total_Sold']/len(mtn_df)).map('{:.0%}'.format)\n",
    "mtn_frame_df = mtn_frame_df.reset_index()\n",
    "mtn_frame_df = mtn_frame_df.rename(columns = {'frame':'Mtn_Frame'}).set_index('Mtn_Frame')\n",
    "mtn_frame_df"
   ]
  },
  {
   "cell_type": "code",
   "execution_count": 97,
   "metadata": {},
   "outputs": [
    {
     "data": {
      "text/html": [
       "<div>\n",
       "<style scoped>\n",
       "    .dataframe tbody tr th:only-of-type {\n",
       "        vertical-align: middle;\n",
       "    }\n",
       "\n",
       "    .dataframe tbody tr th {\n",
       "        vertical-align: top;\n",
       "    }\n",
       "\n",
       "    .dataframe thead th {\n",
       "        text-align: right;\n",
       "    }\n",
       "</style>\n",
       "<table border=\"1\" class=\"dataframe\">\n",
       "  <thead>\n",
       "    <tr style=\"text-align: right;\">\n",
       "      <th></th>\n",
       "      <th></th>\n",
       "      <th>Total_Sold</th>\n",
       "    </tr>\n",
       "    <tr>\n",
       "      <th>Region</th>\n",
       "      <th>category.primary</th>\n",
       "      <th></th>\n",
       "    </tr>\n",
       "  </thead>\n",
       "  <tbody>\n",
       "    <tr>\n",
       "      <th rowspan=\"2\" valign=\"top\">Midwest</th>\n",
       "      <th>Mountain</th>\n",
       "      <td>2919</td>\n",
       "    </tr>\n",
       "    <tr>\n",
       "      <th>Road</th>\n",
       "      <td>2358</td>\n",
       "    </tr>\n",
       "    <tr>\n",
       "      <th rowspan=\"2\" valign=\"top\">Northeast</th>\n",
       "      <th>Mountain</th>\n",
       "      <td>1408</td>\n",
       "    </tr>\n",
       "    <tr>\n",
       "      <th>Road</th>\n",
       "      <td>798</td>\n",
       "    </tr>\n",
       "    <tr>\n",
       "      <th rowspan=\"2\" valign=\"top\">South</th>\n",
       "      <th>Mountain</th>\n",
       "      <td>1155</td>\n",
       "    </tr>\n",
       "    <tr>\n",
       "      <th>Road</th>\n",
       "      <td>2297</td>\n",
       "    </tr>\n",
       "    <tr>\n",
       "      <th rowspan=\"2\" valign=\"top\">West</th>\n",
       "      <th>Mountain</th>\n",
       "      <td>2569</td>\n",
       "    </tr>\n",
       "    <tr>\n",
       "      <th>Road</th>\n",
       "      <td>2140</td>\n",
       "    </tr>\n",
       "  </tbody>\n",
       "</table>\n",
       "</div>"
      ],
      "text/plain": [
       "                            Total_Sold\n",
       "Region    category.primary            \n",
       "Midwest   Mountain                2919\n",
       "          Road                    2358\n",
       "Northeast Mountain                1408\n",
       "          Road                     798\n",
       "South     Mountain                1155\n",
       "          Road                    2297\n",
       "West      Mountain                2569\n",
       "          Road                    2140"
      ]
     },
     "execution_count": 97,
     "metadata": {},
     "output_type": "execute_result"
    }
   ],
   "source": [
    "# review the mountain versus road bikes sold by region\n",
    "region_grpby_df = pd.DataFrame(bike_data.groupby(['Region','category.primary'])['order.date'].count())\n",
    "region_grpby_df = region_grpby_df.rename(columns = {'order.date':'Total_Sold'})\n",
    "region_grpby_df"
   ]
  },
  {
   "cell_type": "code",
   "execution_count": 98,
   "metadata": {},
   "outputs": [
    {
     "name": "stdout",
     "output_type": "stream",
     "text": [
      "Midwest: 55% mountain bikes and 45% road bikes\n",
      "Northeast: 64% mountain bikes and 36% road bikes\n",
      "South: 33% mountain bikes and 67% road bikes\n",
      "West: 55% mountain bikes and 45% road bikes\n"
     ]
    }
   ],
   "source": [
    "# display the percentages and see how they compare to the company as a whole\n",
    "mw_mtn_per = len(mtn_df[mtn_df['Region'] == 'Midwest']) / (len(mtn_df[mtn_df['Region'] == 'Midwest'])+ len(road_df[road_df['Region'] == 'Midwest']))\n",
    "mw_road_per = len(road_df[road_df['Region'] == 'Midwest']) / (len(mtn_df[mtn_df['Region'] == 'Midwest'])+ len(road_df[road_df['Region'] == 'Midwest']))\n",
    "\n",
    "ne_mtn_per = len(mtn_df[mtn_df['Region'] == 'Northeast']) / (len(mtn_df[mtn_df['Region'] == 'Northeast'])+ len(road_df[road_df['Region'] == 'Northeast']))\n",
    "ne_road_per = len(road_df[road_df['Region'] == 'Northeast']) / (len(mtn_df[mtn_df['Region'] == 'Northeast'])+ len(road_df[road_df['Region'] == 'Northeast']))\n",
    "\n",
    "so_mtn_per = len(mtn_df[mtn_df['Region'] == 'South']) / (len(mtn_df[mtn_df['Region'] == 'South'])+ len(road_df[road_df['Region'] == 'South']))\n",
    "so_road_per = len(road_df[road_df['Region'] == 'South']) / (len(mtn_df[mtn_df['Region'] == 'South'])+ len(road_df[road_df['Region'] == 'South']))\n",
    "\n",
    "we_mtn_per = len(mtn_df[mtn_df['Region'] == 'West']) / (len(mtn_df[mtn_df['Region'] == 'West'])+ len(road_df[road_df['Region'] == 'West']))\n",
    "we_road_per = len(road_df[road_df['Region'] == 'West']) / (len(mtn_df[mtn_df['Region'] == 'West'])+ len(road_df[road_df['Region'] == 'West']))\n",
    "\n",
    "print(\"Midwest: {:.0%} mountain bikes and {:.0%} road bikes\".format(mw_mtn_per,mw_road_per))\n",
    "print(\"Northeast: {:.0%} mountain bikes and {:.0%} road bikes\".format(ne_mtn_per,ne_road_per))\n",
    "print(\"South: {:.0%} mountain bikes and {:.0%} road bikes\".format(so_mtn_per,so_road_per))\n",
    "print(\"West: {:.0%} mountain bikes and {:.0%} road bikes\".format(we_mtn_per,we_road_per))"
   ]
  },
  {
   "cell_type": "code",
   "execution_count": 129,
   "metadata": {},
   "outputs": [
    {
     "data": {
      "image/png": "[encoded data removed]",
      "text/plain": [
       "<Figure size 864x720 with 1 Axes>"
      ]
     },
     "metadata": {
      "needs_background": "light"
     },
     "output_type": "display_data"
    }
   ],
   "source": [
    "# create a line chart to review the sales by year\n",
    "ax = bike_data.groupby('year')['price.ext'].sum().plot(kind='line', fontsize=14, figsize=(12,10))\n",
    "ax.set_title('Total Sales by Year\\n', fontsize=20)\n",
    "ax.set_xlabel('Year', fontsize=18)\n",
    "ax.set_ylabel('Total Sales', fontsize=18)\n",
    "ax.yaxis.set_major_formatter(matplotlib.ticker.StrMethodFormatter('${x:,.0f}'))\n",
    "ax.yaxis.labelpad = 20\n",
    "plt.xticks(rotation=0)\n",
    "ax.xaxis.set_major_formatter(matplotlib.ticker.StrMethodFormatter('{x:.0f}'))\n",
    "ax.xaxis.labelpad = 20\n",
    "plt.show()"
   ]
  },
  {
   "cell_type": "code",
   "execution_count": 128,
   "metadata": {},
   "outputs": [
    {
     "data": {
      "text/html": [
       "<div>\n",
       "<style scoped>\n",
       "    .dataframe tbody tr th:only-of-type {\n",
       "        vertical-align: middle;\n",
       "    }\n",
       "\n",
       "    .dataframe tbody tr th {\n",
       "        vertical-align: top;\n",
       "    }\n",
       "\n",
       "    .dataframe thead th {\n",
       "        text-align: right;\n",
       "    }\n",
       "</style>\n",
       "<table border=\"1\" class=\"dataframe\">\n",
       "  <thead>\n",
       "    <tr style=\"text-align: right;\">\n",
       "      <th>Region</th>\n",
       "      <th>year</th>\n",
       "      <th>Midwest</th>\n",
       "      <th>Northeast</th>\n",
       "      <th>South</th>\n",
       "      <th>West</th>\n",
       "    </tr>\n",
       "  </thead>\n",
       "  <tbody>\n",
       "    <tr>\n",
       "      <th>0</th>\n",
       "      <td>2011</td>\n",
       "      <td>3469.733242</td>\n",
       "      <td>4027.384342</td>\n",
       "      <td>3379.611570</td>\n",
       "      <td>3450.047114</td>\n",
       "    </tr>\n",
       "    <tr>\n",
       "      <th>1</th>\n",
       "      <td>2012</td>\n",
       "      <td>3536.078732</td>\n",
       "      <td>3914.085052</td>\n",
       "      <td>3338.071571</td>\n",
       "      <td>3485.222646</td>\n",
       "    </tr>\n",
       "    <tr>\n",
       "      <th>2</th>\n",
       "      <td>2013</td>\n",
       "      <td>3510.153322</td>\n",
       "      <td>4235.191147</td>\n",
       "      <td>3207.901639</td>\n",
       "      <td>3369.551402</td>\n",
       "    </tr>\n",
       "    <tr>\n",
       "      <th>3</th>\n",
       "      <td>2014</td>\n",
       "      <td>3386.204163</td>\n",
       "      <td>4201.064050</td>\n",
       "      <td>3134.717608</td>\n",
       "      <td>3430.220061</td>\n",
       "    </tr>\n",
       "    <tr>\n",
       "      <th>4</th>\n",
       "      <td>2015</td>\n",
       "      <td>3543.184116</td>\n",
       "      <td>4249.217626</td>\n",
       "      <td>3373.415961</td>\n",
       "      <td>3439.610516</td>\n",
       "    </tr>\n",
       "  </tbody>\n",
       "</table>\n",
       "</div>"
      ],
      "text/plain": [
       "Region  year      Midwest    Northeast        South         West\n",
       "0       2011  3469.733242  4027.384342  3379.611570  3450.047114\n",
       "1       2012  3536.078732  3914.085052  3338.071571  3485.222646\n",
       "2       2013  3510.153322  4235.191147  3207.901639  3369.551402\n",
       "3       2014  3386.204163  4201.064050  3134.717608  3430.220061\n",
       "4       2015  3543.184116  4249.217626  3373.415961  3439.610516"
      ]
     },
     "execution_count": 128,
     "metadata": {},
     "output_type": "execute_result"
    }
   ],
   "source": [
    "# Create a pivot table to show slaes by region by year\n",
    "pd.pivot_table(bike_data, 'price', 'year', 'Region').reset_index()"
   ]
  }
 ],
 "metadata": {
  "kernelspec": {
   "display_name": "Python 3",
   "language": "python",
   "name": "python3"
  },
  "language_info": {
   "codemirror_mode": {
    "name": "ipython",
    "version": 3
   },
   "file_extension": ".py",
   "mimetype": "text/x-python",
   "name": "python",
   "nbconvert_exporter": "python",
   "pygments_lexer": "ipython3",
   "version": "3.7.6"
  }
 },
 "nbformat": 4,
 "nbformat_minor": 4
}
